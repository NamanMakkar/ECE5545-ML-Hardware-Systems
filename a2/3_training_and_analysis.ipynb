{
  "cells": [
    {
      "cell_type": "markdown",
      "metadata": {
        "id": "view-in-github"
      },
      "source": [
        "<a href=\"https://colab.research.google.com/github/ML-HW-SYS/a2/blob/main/3_training_and_analysis.ipynb\" target=\"_parent\"><img src=\"https://colab.research.google.com/assets/colab-badge.svg\" alt=\"Open In Colab\"/></a>"
      ]
    },
    {
      "cell_type": "markdown",
      "metadata": {
        "id": "z2nGDz0JliKU"
      },
      "source": [
        "# **3. Training and Testing**\n",
        "Please start early! Section 3.6 Training may take one to two hours to run. "
      ]
    },
    {
      "cell_type": "markdown",
      "metadata": {
        "id": "c5U9gkiTnC4s"
      },
      "source": [
        "## 3.0 Setup GDrive and Git"
      ]
    },
    {
      "cell_type": "code",
      "source": [
        "# Mount google drive\n",
        "from google.colab import drive\n",
        "drive.mount('/content/drive') "
      ],
      "metadata": {
        "id": "WwcJax1zU04M",
        "colab": {
          "base_uri": "https://localhost:8080/"
        },
        "outputId": "722f3211-2ba9-401b-dbfb-d14d7235feed"
      },
      "execution_count": 1,
      "outputs": [
        {
          "output_type": "stream",
          "name": "stdout",
          "text": [
            "Mounted at /content/drive\n"
          ]
        }
      ]
    },
    {
      "cell_type": "code",
      "source": [
        "# Make sure your token is stored in a txt file at the location below.\n",
        "# This way there is no risk that you will push it to your repo\n",
        "# Never share your token with anyone, it is basically your github password!\n",
        "with open('/content/drive/MyDrive/ece5545/token.txt') as f:\n",
        "    token = f.readline().strip()\n",
        "# Use another file to store your github username    \n",
        "with open('/content/drive/MyDrive/ece5545/git_username.txt') as f:\n",
        "    handle = f.readline().strip()"
      ],
      "metadata": {
        "id": "NQklidVMU0-t"
      },
      "execution_count": 2,
      "outputs": []
    },
    {
      "cell_type": "code",
      "source": [
        "# Clone your github repo\n",
        "YOUR_TOKEN = token\n",
        "YOUR_HANDLE = handle\n",
        "BRANCH = \"main\"\n",
        "\n",
        "%mkdir /content/drive/MyDrive/ece5545\n",
        "%cd /content/drive/MyDrive/ece5545\n",
        "!git clone https://{YOUR_TOKEN}@github.com/ML-HW-SYS/a2-{YOUR_HANDLE}.git\n",
        "%cd /content/drive/MyDrive/ece5545/a2-{YOUR_HANDLE}\n",
        "!git checkout {BRANCH}\n",
        "!git pull\n",
        "%cd /content/drive/MyDrive/ece5545\n",
        "\n",
        "PROJECT_ROOT = f\"/content/drive/MyDrive/ece5545/a2-{YOUR_HANDLE}\""
      ],
      "metadata": {
        "id": "7bdUCGFEU1Es",
        "colab": {
          "base_uri": "https://localhost:8080/"
        },
        "outputId": "8370da4f-63d4-4763-bd36-c1e6cd5a4e2f"
      },
      "execution_count": 3,
      "outputs": [
        {
          "output_type": "stream",
          "name": "stdout",
          "text": [
            "mkdir: cannot create directory ‘/content/drive/MyDrive/ece5545’: File exists\n",
            "/content/drive/MyDrive/ece5545\n",
            "fatal: destination path 'a2-NamanMakkar' already exists and is not an empty directory.\n",
            "/content/drive/MyDrive/ece5545/a2-NamanMakkar\n",
            "Already on 'main'\n",
            "Your branch is up to date with 'origin/main'.\n",
            "remote: Enumerating objects: 11, done.\u001b[K\n",
            "remote: Counting objects: 100% (11/11), done.\u001b[K\n",
            "remote: Compressing objects: 100% (4/4), done.\u001b[K\n",
            "remote: Total 7 (delta 4), reused 6 (delta 3), pack-reused 0\u001b[K\n",
            "Unpacking objects: 100% (7/7), 118.55 KiB | 326.00 KiB/s, done.\n",
            "From https://github.com/ML-HW-SYS/a2-NamanMakkar\n",
            "   7fe79c6..ee4220e  main       -> origin/main\n",
            "Updating 7fe79c6..ee4220e\n",
            "Fast-forward\n",
            " 6_pruning.ipynb  | 2138 \u001b[32m++++++++++++++++++++++++++++++++++++++++++++++++++++\u001b[m\u001b[31m--\u001b[m\n",
            " src/constants.py |    2 \u001b[32m+\u001b[m\u001b[31m-\u001b[m\n",
            " 2 files changed, 2077 insertions(+), 63 deletions(-)\n",
            "/content/drive/MyDrive/ece5545\n"
          ]
        }
      ]
    },
    {
      "cell_type": "code",
      "source": [
        "# This extension reloads all imports before running each cell\n",
        "%load_ext autoreload\n",
        "%autoreload 2"
      ],
      "metadata": {
        "id": "xHXYdHkzU1MX"
      },
      "execution_count": 4,
      "outputs": []
    },
    {
      "cell_type": "markdown",
      "metadata": {
        "id": "t6zMfxIflRLB"
      },
      "source": [
        "### GPU\n",
        "\n",
        "Ensure you are running the GPU runtime type:\n",
        "1.   Click \"Runtime\" on top banner\n",
        "2.   Select \"Change runtime type\"\n",
        "3.   Under \"Hardware accelarator\" select \"GPU\" and save\n",
        "\n"
      ]
    },
    {
      "cell_type": "markdown",
      "metadata": {
        "id": "be4rOan-nHrF"
      },
      "source": [
        "### Import code dependencies"
      ]
    },
    {
      "cell_type": "code",
      "execution_count": 5,
      "metadata": {
        "id": "aDDr3IrkliKY",
        "colab": {
          "base_uri": "https://localhost:8080/"
        },
        "outputId": "f9321f03-d31b-48c1-c633-148d2c021fcc"
      },
      "outputs": [
        {
          "output_type": "stream",
          "name": "stdout",
          "text": [
            "Model folders are created, \n",
            "PyTorch models will be saved in /content/drive/MyDrive/ece5545/models/torch_models, \n",
            "ONNX models will be saved in /content/drive/MyDrive/ece5545/models/onnx_models, \n",
            "TensorFlow Saved Models will be saved in /content/drive/MyDrive/ece5545/models/tf_models, \n",
            "TensorFlow Lite models will be saved in /content/drive/MyDrive/ece5545/models/tflite_models, \n",
            "TensorFlow Lite Micro models will be saved in /content/drive/MyDrive/ece5545/models/micro_models.\n"
          ]
        }
      ],
      "source": [
        "import os\n",
        "import sys\n",
        "\n",
        "# Adding assignment 2 to the system path\n",
        "# -- make sure this matches your git directory\n",
        "sys.path.insert(0, PROJECT_ROOT)\n",
        "\n",
        "# Import libraries \n",
        "import torch\n",
        "import torch.nn as nn\n",
        "import torch.nn.functional as F\n",
        "import torch.optim as optim\n",
        "\n",
        "import matplotlib.pyplot as plt\n",
        "from tqdm.notebook import tqdm\n",
        "import numpy as np\n",
        "import copy\n",
        "\n",
        "# Import constants to use constants defined for training\n",
        "from src.constants import *\n",
        "# Import data_proc to use data processing functions\n",
        "import src.data_proc as data_proc\n",
        "\n",
        "random_seed = 0\n",
        "torch.manual_seed(random_seed)\n",
        "torch.cuda.manual_seed(random_seed)"
      ]
    },
    {
      "cell_type": "markdown",
      "metadata": {
        "id": "U7qaF1IEliKa"
      },
      "source": [
        "## 3.1 Download and Preprocess Data"
      ]
    },
    {
      "cell_type": "markdown",
      "metadata": {
        "id": "FLwsdGt_liKa"
      },
      "source": [
        "### Create audio processor\n",
        "This step is similar to what was done in part 2, so the files should already be downloaded in your Google Drive."
      ]
    },
    {
      "cell_type": "code",
      "execution_count": 6,
      "metadata": {
        "id": "Xdc42fZiliKa"
      },
      "outputs": [],
      "source": [
        "# Create audio_processor\n",
        "audio_processor = data_proc.AudioProcessor()"
      ]
    },
    {
      "cell_type": "markdown",
      "metadata": {
        "id": "e53768H0liKf"
      },
      "source": [
        "### Select device: cuda or cpu"
      ]
    },
    {
      "cell_type": "code",
      "execution_count": 7,
      "metadata": {
        "id": "UrpzLHRhliKf",
        "colab": {
          "base_uri": "https://localhost:8080/"
        },
        "outputId": "72610c76-5684-4bfd-97ed-56d9e27ad8d1"
      },
      "outputs": [
        {
          "output_type": "stream",
          "name": "stdout",
          "text": [
            "Using cuda to run the training scrpit.\n"
          ]
        }
      ],
      "source": [
        "# Define device\n",
        "device = torch.device(\"cuda\" if torch.cuda.is_available() else \"cpu\")\n",
        "print(f'Using {device} to run the training scrpit.')"
      ]
    },
    {
      "cell_type": "markdown",
      "metadata": {
        "id": "ViruC2uOnY3u"
      },
      "source": [
        "## 3.2 Data Loader"
      ]
    },
    {
      "cell_type": "code",
      "execution_count": 8,
      "metadata": {
        "id": "3qYQMncTliKb",
        "colab": {
          "base_uri": "https://localhost:8080/"
        },
        "outputId": "44cd4d00-29b0-448d-f9a2-30045ec61cbe"
      },
      "outputs": [
        {
          "output_type": "stream",
          "name": "stdout",
          "text": [
            "Train size: 13395 Val size: 1660 Test size: 1734\n"
          ]
        }
      ],
      "source": [
        "# Define train, test, and validation set\n",
        "train_set = audio_processor.data_index['training']\n",
        "test_set = audio_processor.data_index['testing']\n",
        "valid_set = audio_processor.data_index['validation']\n",
        "\n",
        "# Define data loaders\n",
        "from src.loaders import make_data_loaders\n",
        "data_loaders = make_data_loaders(audio_processor, device)\n",
        "train_loader = data_loaders['training']\n",
        "test_loader = data_loaders['testing']\n",
        "valid_loader = data_loaders['validation']"
      ]
    },
    {
      "cell_type": "markdown",
      "metadata": {
        "id": "cBSyrbs6liKg"
      },
      "source": [
        "## 3.3 Define the Model"
      ]
    },
    {
      "cell_type": "code",
      "execution_count": 9,
      "metadata": {
        "id": "OERV-lIDliKi",
        "colab": {
          "base_uri": "https://localhost:8080/"
        },
        "outputId": "1bfc51b1-ea39-4851-a27f-851070bbe740"
      },
      "outputs": [
        {
          "output_type": "execute_result",
          "data": {
            "text/plain": [
              "TinyConv(\n",
              "  (conv_reshape): Reshape(output_shape=(-1, 1, 49, 40))\n",
              "  (conv): Conv2d(1, 8, kernel_size=(10, 8), stride=(2, 2), padding=(5, 3))\n",
              "  (relu): ReLU()\n",
              "  (dropout): Dropout(p=0.5, inplace=False)\n",
              "  (fc_reshape): Reshape(output_shape=(-1, 4000))\n",
              "  (fc): Linear(in_features=4000, out_features=5, bias=True)\n",
              "  (softmax): Softmax(dim=1)\n",
              ")"
            ]
          },
          "metadata": {},
          "execution_count": 9
        }
      ],
      "source": [
        "from src.networks import TinyConv\n",
        "# Create a full precision (float32) TinyConv model\n",
        "model_fp32 = TinyConv(\n",
        "    model_settings=audio_processor.model_settings,\n",
        "    n_input=1,\n",
        "    n_output=audio_processor.num_labels\n",
        ")\n",
        "model_fp32"
      ]
    },
    {
      "cell_type": "markdown",
      "metadata": {
        "id": "0PeiCwmdliKk"
      },
      "source": [
        "## 3.4 Training"
      ]
    },
    {
      "cell_type": "code",
      "execution_count": 10,
      "metadata": {
        "id": "pTDNIHCqliKj"
      },
      "outputs": [],
      "source": [
        "from src.train_val_test_utils import train, test"
      ]
    },
    {
      "cell_type": "markdown",
      "metadata": {
        "id": "Fnk6TOA8rv7C"
      },
      "source": [
        "### Adjust parameters\n",
        "*   You can change *n_epoch* to use a different number training steps/epochs"
      ]
    },
    {
      "cell_type": "code",
      "execution_count": 11,
      "metadata": {
        "id": "4twj3n1tliKk",
        "colab": {
          "base_uri": "https://localhost:8080/"
        },
        "outputId": "5a538816-f331-4504-b26e-2ecdc53da201"
      },
      "outputs": [
        {
          "output_type": "stream",
          "name": "stdout",
          "text": [
            "# batches: 134 \n",
            "# epochs: 50 \n",
            "# total training steps: 6700\n"
          ]
        }
      ],
      "source": [
        "num_batches = len(train_loader)\n",
        "n_epoch = 50\n",
        "print(f'# batches: {num_batches} \\n# epochs: {n_epoch} \\n# total training steps: {num_batches * n_epoch}')"
      ]
    },
    {
      "cell_type": "markdown",
      "metadata": {
        "id": "Ps_AJaYKliKk"
      },
      "source": [
        "### Create optimizer for training\n",
        " Explore more at: \n",
        "[TORCH. OPTIM](https://pytorch.org/docs/stable/optim.html?highlight=torch%20optim%20lr_scheduler)"
      ]
    },
    {
      "cell_type": "code",
      "execution_count": 12,
      "metadata": {
        "id": "VqVXUQzYliKk",
        "colab": {
          "base_uri": "https://localhost:8080/"
        },
        "outputId": "57ccb6bc-f918-423e-d68e-3e3d7ebd5e9a"
      },
      "outputs": [
        {
          "output_type": "stream",
          "name": "stdout",
          "text": [
            "{'state': {}, 'param_groups': [{'lr': 0.001, 'betas': (0.9, 0.999), 'eps': 1e-08, 'weight_decay': 0.0001, 'amsgrad': False, 'maximize': False, 'foreach': None, 'capturable': False, 'differentiable': False, 'fused': False, 'params': [0, 1, 2, 3]}]}\n"
          ]
        }
      ],
      "source": [
        "from src.train_val_test_utils import create_optimizer\n",
        "\n",
        "# Create optimizer\n",
        "optimizer_fp32 = create_optimizer(model=model_fp32, learning_rate=0.001)\n",
        "print(optimizer_fp32.state_dict())"
      ]
    },
    {
      "cell_type": "markdown",
      "metadata": {
        "id": "EX-iWv6Ash3R"
      },
      "source": [
        "### Train the model\n",
        "TensorBoard will allow you to visualize your results. The second code block, the training, will take a while to run."
      ]
    },
    {
      "cell_type": "code",
      "source": [
        "TORCH_DIR = PROJECT_ROOT"
      ],
      "metadata": {
        "id": "ojpQ4q4kZLvL"
      },
      "execution_count": 13,
      "outputs": []
    },
    {
      "cell_type": "code",
      "source": [
        "pbar_update = 1 / (len(train_loader) + len(test_loader) + len(valid_loader))\n",
        "\n",
        "def run_training(model, data_loaders, n_epoch, optimizer,\n",
        "                 save_interval=1, resume=True, checkpoint_path=None):\n",
        "    test_loader = data_loaders['testing']\n",
        "    train_accs = []\n",
        "    val_accs = []\n",
        "    with tqdm(total=n_epoch) as pbar:\n",
        "      \n",
        "        completed_epoch = 1\n",
        "        if resume:\n",
        "            try:\n",
        "                #continue training with previous model if one exists\n",
        "                checkpoint = torch.load(checkpoint_path)\n",
        "                model.load_state_dict(checkpoint['model_state_dict'])\n",
        "                optimizer.load_state_dict(checkpoint['optimizer_state_dict'])\n",
        "                completed_epoch = checkpoint[\"epoch\"] + 1\n",
        "                model.eval()\n",
        "                pbar.update(completed_epoch)\n",
        "            except:\n",
        "                pass\n",
        "\n",
        "        last_valacc = 0\n",
        "        for epoch in range(completed_epoch, n_epoch + 1):\n",
        "            train_iters = len(data_loaders['training'])\n",
        "            \n",
        "            train(model, data_loaders, optimizer, \n",
        "                      epoch, device)\n",
        "            \n",
        "            train_acc = test(train_loader, model, device, epoch=epoch, \n",
        "                          loader_type='Train', verbose=True)\n",
        "            \n",
        "            train_accs.append(train_acc)\n",
        "\n",
        "            valacc = test(valid_loader, model, device, epoch=epoch, \n",
        "                          loader_type='Valid', verbose=True)\n",
        "            \n",
        "            val_accs.append(valacc)\n",
        "            #checkpoint the model every epoch\n",
        "            if epoch % save_interval == 0 and valacc > last_valacc:\n",
        "                last_valacc = valacc\n",
        "                torch.save({\n",
        "                    'epoch': epoch,\n",
        "                    'model_state_dict': model.state_dict(),\n",
        "                    'optimizer_state_dict': optimizer.state_dict()\n",
        "                }, checkpoint_path)\n",
        "                \n",
        "            # Update epoch pbar\n",
        "            pbar.update(1)\n",
        "        \n",
        "        testacc = test(test_loader, model, device, \n",
        "                     epoch=None, loader_type='Test')\n",
        "        print(f'Test Acc = {round(testacc,2)}%')\n",
        "    return train_accs, val_accs\n",
        "\n",
        "\n",
        "# This is where your checkpoint file will be saved\n",
        "checkpoint_path = os.path.join(TORCH_DIR, \"fp32_checkpoint.pt\")\n",
        "\n",
        "model_fp32.to(device)\n",
        "train_accs, val_accs = run_training(\n",
        "    model=model_fp32, data_loaders=data_loaders, \n",
        "    n_epoch=n_epoch, optimizer=optimizer_fp32, \n",
        "    resume=False, checkpoint_path=checkpoint_path\n",
        ")"
      ],
      "metadata": {
        "colab": {
          "base_uri": "https://localhost:8080/",
          "height": 1000,
          "referenced_widgets": [
            "9bca41b615314c7b83fd59f269b8b54a",
            "08079d9d03734c36a38cd23090a4a0c3",
            "3c7362c5eea143719d634b2019d83d7a",
            "ecfc1318da654bcaa10e3401137c2d67",
            "0303d35739854992870527697f12e163",
            "514ba832c16547b685799cba5c22e414",
            "cb4adb91b8f149ec81a94c192827a5d1",
            "4aa3d4c1fb10431593b7c0597f72cde9",
            "3ca24736018d497ba39cd769b95aecdc",
            "a9c27b555e144b23aca3aff2de828ce4",
            "372394b9f76644d2b2a9b69c1f15369f"
          ]
        },
        "id": "XzORvwHzIM36",
        "outputId": "4d187f7f-a359-4588-e34f-bf5a1b8dbf16"
      },
      "execution_count": 18,
      "outputs": [
        {
          "output_type": "display_data",
          "data": {
            "text/plain": [
              "  0%|          | 0/50 [00:00<?, ?it/s]"
            ],
            "application/vnd.jupyter.widget-view+json": {
              "version_major": 2,
              "version_minor": 0,
              "model_id": "9bca41b615314c7b83fd59f269b8b54a"
            }
          },
          "metadata": {}
        },
        {
          "output_type": "stream",
          "name": "stdout",
          "text": [
            "Val Acc Epoch 1 = 87.71%, Train loss = 0.447\n",
            "\n",
            "Train epoch: 1\tAccuracy: 11683/13395 (87.22%)\n",
            "\n",
            "\n",
            "Valid epoch: 1\tAccuracy: 1464/1660 (88.19%)\n",
            "\n",
            "Val Acc Epoch 2 = 88.43%, Train loss = 0.447\n",
            "\n",
            "Train epoch: 2\tAccuracy: 11811/13395 (88.17%)\n",
            "\n",
            "\n",
            "Valid epoch: 2\tAccuracy: 1451/1660 (87.41%)\n",
            "\n",
            "Val Acc Epoch 3 = 88.86%, Train loss = 0.447\n",
            "\n",
            "Train epoch: 3\tAccuracy: 11817/13395 (88.22%)\n",
            "\n",
            "\n",
            "Valid epoch: 3\tAccuracy: 1463/1660 (88.13%)\n",
            "\n",
            "Val Acc Epoch 4 = 87.71%, Train loss = 0.448\n",
            "\n",
            "Train epoch: 4\tAccuracy: 11789/13395 (88.01%)\n",
            "\n",
            "\n",
            "Valid epoch: 4\tAccuracy: 1457/1660 (87.77%)\n",
            "\n",
            "Val Acc Epoch 5 = 88.61%, Train loss = 0.442\n",
            "\n",
            "Train epoch: 5\tAccuracy: 11808/13395 (88.15%)\n",
            "\n",
            "\n",
            "Valid epoch: 5\tAccuracy: 1455/1660 (87.65%)\n",
            "\n",
            "Val Acc Epoch 6 = 87.71%, Train loss = 0.438\n",
            "\n",
            "Train epoch: 6\tAccuracy: 11766/13395 (87.84%)\n",
            "\n",
            "\n",
            "Valid epoch: 6\tAccuracy: 1472/1660 (88.67%)\n",
            "\n",
            "Val Acc Epoch 7 = 86.81%, Train loss = 0.436\n",
            "\n",
            "Train epoch: 7\tAccuracy: 11695/13395 (87.31%)\n",
            "\n",
            "\n",
            "Valid epoch: 7\tAccuracy: 1449/1660 (87.29%)\n",
            "\n",
            "Val Acc Epoch 8 = 88.31%, Train loss = 0.442\n",
            "\n",
            "Train epoch: 8\tAccuracy: 11770/13395 (87.87%)\n",
            "\n",
            "\n",
            "Valid epoch: 8\tAccuracy: 1465/1660 (88.25%)\n",
            "\n",
            "Val Acc Epoch 9 = 88.01%, Train loss = 0.434\n",
            "\n",
            "Train epoch: 9\tAccuracy: 11737/13395 (87.62%)\n",
            "\n",
            "\n",
            "Valid epoch: 9\tAccuracy: 1464/1660 (88.19%)\n",
            "\n",
            "Val Acc Epoch 10 = 89.22%, Train loss = 0.446\n",
            "\n",
            "Train epoch: 10\tAccuracy: 11837/13395 (88.37%)\n",
            "\n",
            "\n",
            "Valid epoch: 10\tAccuracy: 1455/1660 (87.65%)\n",
            "\n",
            "Val Acc Epoch 11 = 86.39%, Train loss = 0.451\n",
            "\n",
            "Train epoch: 11\tAccuracy: 11685/13395 (87.23%)\n",
            "\n",
            "\n",
            "Valid epoch: 11\tAccuracy: 1454/1660 (87.59%)\n",
            "\n",
            "Val Acc Epoch 12 = 87.95%, Train loss = 0.434\n",
            "\n",
            "Train epoch: 12\tAccuracy: 11777/13395 (87.92%)\n",
            "\n",
            "\n",
            "Valid epoch: 12\tAccuracy: 1464/1660 (88.19%)\n",
            "\n",
            "Val Acc Epoch 13 = 87.41%, Train loss = 0.436\n",
            "\n",
            "Train epoch: 13\tAccuracy: 11835/13395 (88.35%)\n",
            "\n",
            "\n",
            "Valid epoch: 13\tAccuracy: 1457/1660 (87.77%)\n",
            "\n",
            "Val Acc Epoch 14 = 87.83%, Train loss = 0.444\n",
            "\n",
            "Train epoch: 14\tAccuracy: 11792/13395 (88.03%)\n",
            "\n",
            "\n",
            "Valid epoch: 14\tAccuracy: 1468/1660 (88.43%)\n",
            "\n",
            "Val Acc Epoch 15 = 88.61%, Train loss = 0.44\n",
            "\n",
            "Train epoch: 15\tAccuracy: 11751/13395 (87.73%)\n",
            "\n",
            "\n",
            "Valid epoch: 15\tAccuracy: 1477/1660 (88.98%)\n",
            "\n",
            "Val Acc Epoch 16 = 88.49%, Train loss = 0.441\n",
            "\n",
            "Train epoch: 16\tAccuracy: 11776/13395 (87.91%)\n",
            "\n",
            "\n",
            "Valid epoch: 16\tAccuracy: 1461/1660 (88.01%)\n",
            "\n",
            "Val Acc Epoch 17 = 88.19%, Train loss = 0.441\n",
            "\n",
            "Train epoch: 17\tAccuracy: 11713/13395 (87.44%)\n",
            "\n",
            "\n",
            "Valid epoch: 17\tAccuracy: 1457/1660 (87.77%)\n",
            "\n",
            "Val Acc Epoch 18 = 88.19%, Train loss = 0.439\n",
            "\n",
            "Train epoch: 18\tAccuracy: 11763/13395 (87.82%)\n",
            "\n",
            "\n",
            "Valid epoch: 18\tAccuracy: 1469/1660 (88.49%)\n",
            "\n",
            "Val Acc Epoch 19 = 88.01%, Train loss = 0.428\n",
            "\n",
            "Train epoch: 19\tAccuracy: 11764/13395 (87.82%)\n",
            "\n",
            "\n",
            "Valid epoch: 19\tAccuracy: 1467/1660 (88.37%)\n",
            "\n",
            "Val Acc Epoch 20 = 88.37%, Train loss = 0.436\n",
            "\n",
            "Train epoch: 20\tAccuracy: 11809/13395 (88.16%)\n",
            "\n",
            "\n",
            "Valid epoch: 20\tAccuracy: 1468/1660 (88.43%)\n",
            "\n",
            "Val Acc Epoch 21 = 88.61%, Train loss = 0.44\n",
            "\n",
            "Train epoch: 21\tAccuracy: 11845/13395 (88.43%)\n",
            "\n",
            "\n",
            "Valid epoch: 21\tAccuracy: 1467/1660 (88.37%)\n",
            "\n",
            "Val Acc Epoch 22 = 88.92%, Train loss = 0.424\n",
            "\n",
            "Train epoch: 22\tAccuracy: 11882/13395 (88.70%)\n",
            "\n",
            "\n",
            "Valid epoch: 22\tAccuracy: 1478/1660 (89.04%)\n",
            "\n",
            "Val Acc Epoch 23 = 89.1%, Train loss = 0.432\n",
            "\n",
            "Train epoch: 23\tAccuracy: 11850/13395 (88.47%)\n",
            "\n",
            "\n",
            "Valid epoch: 23\tAccuracy: 1476/1660 (88.92%)\n",
            "\n",
            "Val Acc Epoch 24 = 87.95%, Train loss = 0.44\n",
            "\n",
            "Train epoch: 24\tAccuracy: 11798/13395 (88.08%)\n",
            "\n",
            "\n",
            "Valid epoch: 24\tAccuracy: 1468/1660 (88.43%)\n",
            "\n",
            "Val Acc Epoch 25 = 87.89%, Train loss = 0.435\n",
            "\n",
            "Train epoch: 25\tAccuracy: 11799/13395 (88.09%)\n",
            "\n",
            "\n",
            "Valid epoch: 25\tAccuracy: 1464/1660 (88.19%)\n",
            "\n",
            "Val Acc Epoch 26 = 87.59%, Train loss = 0.434\n",
            "\n",
            "Train epoch: 26\tAccuracy: 11783/13395 (87.97%)\n",
            "\n",
            "\n",
            "Valid epoch: 26\tAccuracy: 1449/1660 (87.29%)\n",
            "\n",
            "Val Acc Epoch 27 = 88.61%, Train loss = 0.443\n",
            "\n",
            "Train epoch: 27\tAccuracy: 11867/13395 (88.59%)\n",
            "\n",
            "\n",
            "Valid epoch: 27\tAccuracy: 1480/1660 (89.16%)\n",
            "\n",
            "Val Acc Epoch 28 = 88.07%, Train loss = 0.448\n",
            "\n",
            "Train epoch: 28\tAccuracy: 11782/13395 (87.96%)\n",
            "\n",
            "\n",
            "Valid epoch: 28\tAccuracy: 1466/1660 (88.31%)\n",
            "\n",
            "Val Acc Epoch 29 = 88.61%, Train loss = 0.43\n",
            "\n",
            "Train epoch: 29\tAccuracy: 11843/13395 (88.41%)\n",
            "\n",
            "\n",
            "Valid epoch: 29\tAccuracy: 1468/1660 (88.43%)\n",
            "\n",
            "Val Acc Epoch 30 = 88.55%, Train loss = 0.446\n",
            "\n",
            "Train epoch: 30\tAccuracy: 11823/13395 (88.26%)\n",
            "\n",
            "\n",
            "Valid epoch: 30\tAccuracy: 1450/1660 (87.35%)\n",
            "\n",
            "Val Acc Epoch 31 = 87.71%, Train loss = 0.437\n",
            "\n",
            "Train epoch: 31\tAccuracy: 11773/13395 (87.89%)\n",
            "\n",
            "\n",
            "Valid epoch: 31\tAccuracy: 1459/1660 (87.89%)\n",
            "\n",
            "Val Acc Epoch 32 = 88.01%, Train loss = 0.426\n",
            "\n",
            "Train epoch: 32\tAccuracy: 11759/13395 (87.79%)\n",
            "\n",
            "\n",
            "Valid epoch: 32\tAccuracy: 1466/1660 (88.31%)\n",
            "\n",
            "Val Acc Epoch 33 = 88.37%, Train loss = 0.424\n",
            "\n",
            "Train epoch: 33\tAccuracy: 11844/13395 (88.42%)\n",
            "\n",
            "\n",
            "Valid epoch: 33\tAccuracy: 1477/1660 (88.98%)\n",
            "\n",
            "Val Acc Epoch 34 = 88.98%, Train loss = 0.433\n",
            "\n",
            "Train epoch: 34\tAccuracy: 11809/13395 (88.16%)\n",
            "\n",
            "\n",
            "Valid epoch: 34\tAccuracy: 1479/1660 (89.10%)\n",
            "\n",
            "Val Acc Epoch 35 = 89.88%, Train loss = 0.426\n",
            "\n",
            "Train epoch: 35\tAccuracy: 11849/13395 (88.46%)\n",
            "\n",
            "\n",
            "Valid epoch: 35\tAccuracy: 1481/1660 (89.22%)\n",
            "\n",
            "Val Acc Epoch 36 = 88.37%, Train loss = 0.424\n",
            "\n",
            "Train epoch: 36\tAccuracy: 11726/13395 (87.54%)\n",
            "\n",
            "\n",
            "Valid epoch: 36\tAccuracy: 1465/1660 (88.25%)\n",
            "\n",
            "Val Acc Epoch 37 = 86.51%, Train loss = 0.435\n",
            "\n",
            "Train epoch: 37\tAccuracy: 11584/13395 (86.48%)\n",
            "\n",
            "\n",
            "Valid epoch: 37\tAccuracy: 1451/1660 (87.41%)\n",
            "\n",
            "Val Acc Epoch 38 = 87.35%, Train loss = 0.454\n",
            "\n",
            "Train epoch: 38\tAccuracy: 11772/13395 (87.88%)\n",
            "\n",
            "\n",
            "Valid epoch: 38\tAccuracy: 1459/1660 (87.89%)\n",
            "\n",
            "Val Acc Epoch 39 = 88.73%, Train loss = 0.424\n",
            "\n",
            "Train epoch: 39\tAccuracy: 11836/13395 (88.36%)\n",
            "\n",
            "\n",
            "Valid epoch: 39\tAccuracy: 1478/1660 (89.04%)\n",
            "\n",
            "Val Acc Epoch 40 = 89.16%, Train loss = 0.438\n",
            "\n",
            "Train epoch: 40\tAccuracy: 11781/13395 (87.95%)\n",
            "\n",
            "\n",
            "Valid epoch: 40\tAccuracy: 1464/1660 (88.19%)\n",
            "\n",
            "Val Acc Epoch 41 = 88.8%, Train loss = 0.422\n",
            "\n",
            "Train epoch: 41\tAccuracy: 11849/13395 (88.46%)\n",
            "\n",
            "\n",
            "Valid epoch: 41\tAccuracy: 1468/1660 (88.43%)\n",
            "\n",
            "Val Acc Epoch 42 = 88.55%, Train loss = 0.431\n",
            "\n",
            "Train epoch: 42\tAccuracy: 11908/13395 (88.90%)\n",
            "\n",
            "\n",
            "Valid epoch: 42\tAccuracy: 1473/1660 (88.73%)\n",
            "\n",
            "Val Acc Epoch 43 = 88.01%, Train loss = 0.422\n",
            "\n",
            "Train epoch: 43\tAccuracy: 11827/13395 (88.29%)\n",
            "\n",
            "\n",
            "Valid epoch: 43\tAccuracy: 1489/1660 (89.70%)\n",
            "\n",
            "Val Acc Epoch 44 = 88.73%, Train loss = 0.426\n",
            "\n",
            "Train epoch: 44\tAccuracy: 11855/13395 (88.50%)\n",
            "\n",
            "\n",
            "Valid epoch: 44\tAccuracy: 1470/1660 (88.55%)\n",
            "\n",
            "Val Acc Epoch 45 = 87.95%, Train loss = 0.424\n",
            "\n",
            "Train epoch: 45\tAccuracy: 11856/13395 (88.51%)\n",
            "\n",
            "\n",
            "Valid epoch: 45\tAccuracy: 1463/1660 (88.13%)\n",
            "\n",
            "Val Acc Epoch 46 = 88.8%, Train loss = 0.429\n",
            "\n",
            "Train epoch: 46\tAccuracy: 11857/13395 (88.52%)\n",
            "\n",
            "\n",
            "Valid epoch: 46\tAccuracy: 1471/1660 (88.61%)\n",
            "\n",
            "Val Acc Epoch 47 = 88.55%, Train loss = 0.411\n",
            "\n",
            "Train epoch: 47\tAccuracy: 11818/13395 (88.23%)\n",
            "\n",
            "\n",
            "Valid epoch: 47\tAccuracy: 1475/1660 (88.86%)\n",
            "\n",
            "Val Acc Epoch 48 = 88.19%, Train loss = 0.415\n",
            "\n",
            "Train epoch: 48\tAccuracy: 11878/13395 (88.67%)\n",
            "\n",
            "\n",
            "Valid epoch: 48\tAccuracy: 1481/1660 (89.22%)\n",
            "\n",
            "Val Acc Epoch 49 = 89.46%, Train loss = 0.433\n",
            "\n",
            "Train epoch: 49\tAccuracy: 11912/13395 (88.93%)\n",
            "\n",
            "\n",
            "Valid epoch: 49\tAccuracy: 1484/1660 (89.40%)\n",
            "\n",
            "Val Acc Epoch 50 = 88.25%, Train loss = 0.43\n",
            "\n",
            "Train epoch: 50\tAccuracy: 11784/13395 (87.97%)\n",
            "\n",
            "\n",
            "Valid epoch: 50\tAccuracy: 1478/1660 (89.04%)\n",
            "\n",
            "Test Acc = 88.12%\n"
          ]
        }
      ]
    },
    {
      "cell_type": "code",
      "source": [
        "import matplotlib.pyplot as plt\n",
        "fig = plt.figure(figsize=(10,10))\n",
        "epochs = [i+1 for i in range(n_epoch)]\n",
        "plt.title('Plot for Training and Validation Accuracies')\n",
        "plt.plot(epochs, train_accs, color='r', label = 'Training Accuracy')\n",
        "plt.plot(epochs, val_accs, color='b', label='Validation Accuracy')\n",
        "plt.xlabel('Epochs')\n",
        "plt.ylabel('Accuracy')\n",
        "plt.legend()\n",
        "fig.savefig('/content/training_val_accs_vs_epochs.png')\n",
        "plt.show()"
      ],
      "metadata": {
        "colab": {
          "base_uri": "https://localhost:8080/",
          "height": 621
        },
        "id": "RKbH-26JO4X1",
        "outputId": "3f3f1e0e-cfe8-4966-c00b-dbdabdb92718"
      },
      "execution_count": 19,
      "outputs": [
        {
          "output_type": "display_data",
          "data": {
            "text/plain": [
              "<Figure size 720x720 with 1 Axes>"
            ],
            "image/png": "[encoded data removed]"
          },
          "metadata": {
            "needs_background": "light"
          }
        }
      ]
    },
    {
      "cell_type": "markdown",
      "metadata": {
        "id": "Qg1WlG-rliKl"
      },
      "source": [
        "## 3.5 Testing"
      ]
    },
    {
      "cell_type": "markdown",
      "metadata": {
        "id": "oYgFvfYAliKm"
      },
      "source": [
        "### Calculating accuracy\n"
      ]
    },
    {
      "cell_type": "code",
      "execution_count": null,
      "metadata": {
        "id": "9PtKvJH_liKm",
        "colab": {
          "base_uri": "https://localhost:8080/",
          "height": 775
        },
        "outputId": "71fd8060-ee87-4a60-eead-a1fc773c1a42"
      },
      "outputs": [
        {
          "output_type": "stream",
          "name": "stdout",
          "text": [
            "Train size: 10556 Val size: 1333 Test size: 1368\n"
          ]
        },
        {
          "output_type": "display_data",
          "data": {
            "text/plain": [
              "<Figure size 432x288 with 1 Axes>"
            ],
            "image/png": "[encoded data removed]"
          },
          "metadata": {
            "needs_background": "light"
          }
        },
        {
          "output_type": "display_data",
          "data": {
            "text/plain": [
              "<Figure size 432x288 with 1 Axes>"
            ],
            "image/png": "[encoded data removed]"
          },
          "metadata": {
            "needs_background": "light"
          }
        },
        {
          "output_type": "display_data",
          "data": {
            "text/plain": [
              "<Figure size 432x288 with 1 Axes>"
            ],
            "image/png": "[encoded data removed]"
          },
          "metadata": {
            "needs_background": "light"
          }
        }
      ],
      "source": [
        "from src.train_val_test_utils import plot_acc\n",
        "\n",
        "test_time_data_loaders = make_data_loaders(\n",
        "    audio_processor, device, \n",
        "    test_batch_size=1, valid_batch_size=1,\n",
        "    num_workers=0\n",
        ")\n",
        "\n",
        "plot_acc(\n",
        "    test_time_data_loaders['validation'], model_fp32, audio_processor, device,\n",
        "    \"validation\", 'float32 TinyConv', \"float\")\n",
        "plot_acc(\n",
        "    test_time_data_loaders['training'], model_fp32, audio_processor, device,\n",
        "    \"training\", 'float32 TinyConv', \"float\")\n",
        "acc = plot_acc(\n",
        "    test_time_data_loaders['testing'], model_fp32, audio_processor, device,\n",
        "    'testing', 'float32 TinyConv', \"float\")"
      ]
    },
    {
      "cell_type": "markdown",
      "metadata": {
        "id": "_tMzxb-jliKm"
      },
      "source": [
        "## 3.6 Save the Trained Model"
      ]
    },
    {
      "cell_type": "code",
      "execution_count": null,
      "metadata": {
        "id": "zqC6fEoUliKm"
      },
      "outputs": [],
      "source": [
        "def choose_name(model_name):\n",
        "    name = f\"{model_name}_\" + \"{index}\"\n",
        "    i = 0\n",
        "    while os.path.isfile(name.format(index=i)):\n",
        "        i += 1\n",
        "    name = name.format(index = i)\n",
        "    print(f\"The model's will be stored as: \\n {name}\")\n",
        "    return name\n",
        "\n",
        "def save_model(model, path):\n",
        "    torch.save(model.state_dict(), path)"
      ]
    },
    {
      "cell_type": "code",
      "execution_count": null,
      "metadata": {
        "id": "VVKrP45aliKm",
        "colab": {
          "base_uri": "https://localhost:8080/",
          "height": 71
        },
        "outputId": "53e9adbb-8759-4737-f214-a4aebcbdb4fe"
      },
      "outputs": [
        {
          "output_type": "stream",
          "name": "stdout",
          "text": [
            "The model's will be stored as: \n",
            " tinyconv_float32_init_seed0_90.28%_0\n"
          ]
        },
        {
          "output_type": "execute_result",
          "data": {
            "text/plain": [
              "'/content/drive/MyDrive/ece5545/a2-NamanMakkar/tinyconv_float32_init_seed0_90.28%_0.pt'"
            ],
            "application/vnd.google.colaboratory.intrinsic+json": {
              "type": "string"
            }
          },
          "metadata": {},
          "execution_count": 19
        }
      ],
      "source": [
        "# Choose a path\n",
        "# You can also define your own path\n",
        "model_name = f\"tinyconv_float32_init_seed{torch.initial_seed()}_{acc * 100:.2f}%\"\n",
        "file_name = choose_name(model_name)\n",
        "torch_path = os.path.join(TORCH_DIR, f'{file_name}.pt')\n",
        "torch_path"
      ]
    },
    {
      "cell_type": "code",
      "execution_count": null,
      "metadata": {
        "id": "JHgqZ8yXliKn",
        "colab": {
          "base_uri": "https://localhost:8080/",
          "height": 37
        },
        "outputId": "1890cc2b-cf22-4de0-9258-cffe4c723c5e"
      },
      "outputs": [
        {
          "output_type": "execute_result",
          "data": {
            "text/plain": [
              "'Saved!'"
            ],
            "application/vnd.google.colaboratory.intrinsic+json": {
              "type": "string"
            }
          },
          "metadata": {},
          "execution_count": 20
        }
      ],
      "source": [
        "# Save the trained pytorch model to torch_path\n",
        "save_model(model_fp32, torch_path)\n",
        "'Saved!'"
      ]
    },
    {
      "cell_type": "code",
      "execution_count": null,
      "metadata": {
        "id": "CnJHbwj0UAi5",
        "colab": {
          "base_uri": "https://localhost:8080/",
          "height": 37
        },
        "outputId": "7a21f1b2-9d05-41c4-95cf-42870adb28fb"
      },
      "outputs": [
        {
          "output_type": "execute_result",
          "data": {
            "text/plain": [
              "'You can now find your model in /content/drive/MyDrive/ece5545/a2-NamanMakkar/tinyconv_float32_init_seed0_90.28%_0.pt under the folder icon to the left.'"
            ],
            "application/vnd.google.colaboratory.intrinsic+json": {
              "type": "string"
            }
          },
          "metadata": {},
          "execution_count": 21
        }
      ],
      "source": [
        "'You can now find your model in %s under the folder icon to the left.' % torch_path"
      ]
    },
    {
      "cell_type": "code",
      "source": [],
      "metadata": {
        "id": "kauQRx68xaeo"
      },
      "execution_count": null,
      "outputs": []
    }
  ],
  "metadata": {
    "colab": {
      "provenance": []
    },
    "interpreter": {
      "hash": "92bf126df007708fd70c442c808ee74575bedf7ea6317e0b182c3af0184af25d"
    },
    "kernelspec": {
      "display_name": "Python 3",
      "name": "python3"
    },
    "language_info": {
      "name": "python"
    },
    "gpuClass": "standard",
    "widgets": {
      "application/vnd.jupyter.widget-state+json": {
        "9bca41b615314c7b83fd59f269b8b54a": {
          "model_module": "@jupyter-widgets/controls",
          "model_name": "HBoxModel",
          "model_module_version": "1.5.0",
          "state": {
            "_dom_classes": [],
            "_model_module": "@jupyter-widgets/controls",
            "_model_module_version": "1.5.0",
            "_model_name": "HBoxModel",
            "_view_count": null,
            "_view_module": "@jupyter-widgets/controls",
            "_view_module_version": "1.5.0",
            "_view_name": "HBoxView",
            "box_style": "",
            "children": [
              "IPY_MODEL_08079d9d03734c36a38cd23090a4a0c3",
              "IPY_MODEL_3c7362c5eea143719d634b2019d83d7a",
              "IPY_MODEL_ecfc1318da654bcaa10e3401137c2d67"
            ],
            "layout": "IPY_MODEL_0303d35739854992870527697f12e163"
          }
        },
        "08079d9d03734c36a38cd23090a4a0c3": {
          "model_module": "@jupyter-widgets/controls",
          "model_name": "HTMLModel",
          "model_module_version": "1.5.0",
          "state": {
            "_dom_classes": [],
            "_model_module": "@jupyter-widgets/controls",
            "_model_module_version": "1.5.0",
            "_model_name": "HTMLModel",
            "_view_count": null,
            "_view_module": "@jupyter-widgets/controls",
            "_view_module_version": "1.5.0",
            "_view_name": "HTMLView",
            "description": "",
            "description_tooltip": null,
            "layout": "IPY_MODEL_514ba832c16547b685799cba5c22e414",
            "placeholder": "​",
            "style": "IPY_MODEL_cb4adb91b8f149ec81a94c192827a5d1",
            "value": "100%"
          }
        },
        "3c7362c5eea143719d634b2019d83d7a": {
          "model_module": "@jupyter-widgets/controls",
          "model_name": "FloatProgressModel",
          "model_module_version": "1.5.0",
          "state": {
            "_dom_classes": [],
            "_model_module": "@jupyter-widgets/controls",
            "_model_module_version": "1.5.0",
            "_model_name": "FloatProgressModel",
            "_view_count": null,
            "_view_module": "@jupyter-widgets/controls",
            "_view_module_version": "1.5.0",
            "_view_name": "ProgressView",
            "bar_style": "success",
            "description": "",
            "description_tooltip": null,
            "layout": "IPY_MODEL_4aa3d4c1fb10431593b7c0597f72cde9",
            "max": 50,
            "min": 0,
            "orientation": "horizontal",
            "style": "IPY_MODEL_3ca24736018d497ba39cd769b95aecdc",
            "value": 50
          }
        },
        "ecfc1318da654bcaa10e3401137c2d67": {
          "model_module": "@jupyter-widgets/controls",
          "model_name": "HTMLModel",
          "model_module_version": "1.5.0",
          "state": {
            "_dom_classes": [],
            "_model_module": "@jupyter-widgets/controls",
            "_model_module_version": "1.5.0",
            "_model_name": "HTMLModel",
            "_view_count": null,
            "_view_module": "@jupyter-widgets/controls",
            "_view_module_version": "1.5.0",
            "_view_name": "HTMLView",
            "description": "",
            "description_tooltip": null,
            "layout": "IPY_MODEL_a9c27b555e144b23aca3aff2de828ce4",
            "placeholder": "​",
            "style": "IPY_MODEL_372394b9f76644d2b2a9b69c1f15369f",
            "value": " 50/50 [1:50:33&lt;00:00, 137.21s/it]"
          }
        },
        "0303d35739854992870527697f12e163": {
          "model_module": "@jupyter-widgets/base",
          "model_name": "LayoutModel",
          "model_module_version": "1.2.0",
          "state": {
            "_model_module": "@jupyter-widgets/base",
            "_model_module_version": "1.2.0",
            "_model_name": "LayoutModel",
            "_view_count": null,
            "_view_module": "@jupyter-widgets/base",
            "_view_module_version": "1.2.0",
            "_view_name": "LayoutView",
            "align_content": null,
            "align_items": null,
            "align_self": null,
            "border": null,
            "bottom": null,
            "display": null,
            "flex": null,
            "flex_flow": null,
            "grid_area": null,
            "grid_auto_columns": null,
            "grid_auto_flow": null,
            "grid_auto_rows": null,
            "grid_column": null,
            "grid_gap": null,
            "grid_row": null,
            "grid_template_areas": null,
            "grid_template_columns": null,
            "grid_template_rows": null,
            "height": null,
            "justify_content": null,
            "justify_items": null,
            "left": null,
            "margin": null,
            "max_height": null,
            "max_width": null,
            "min_height": null,
            "min_width": null,
            "object_fit": null,
            "object_position": null,
            "order": null,
            "overflow": null,
            "overflow_x": null,
            "overflow_y": null,
            "padding": null,
            "right": null,
            "top": null,
            "visibility": null,
            "width": null
          }
        },
        "514ba832c16547b685799cba5c22e414": {
          "model_module": "@jupyter-widgets/base",
          "model_name": "LayoutModel",
          "model_module_version": "1.2.0",
          "state": {
            "_model_module": "@jupyter-widgets/base",
            "_model_module_version": "1.2.0",
            "_model_name": "LayoutModel",
            "_view_count": null,
            "_view_module": "@jupyter-widgets/base",
            "_view_module_version": "1.2.0",
            "_view_name": "LayoutView",
            "align_content": null,
            "align_items": null,
            "align_self": null,
            "border": null,
            "bottom": null,
            "display": null,
            "flex": null,
            "flex_flow": null,
            "grid_area": null,
            "grid_auto_columns": null,
            "grid_auto_flow": null,
            "grid_auto_rows": null,
            "grid_column": null,
            "grid_gap": null,
            "grid_row": null,
            "grid_template_areas": null,
            "grid_template_columns": null,
            "grid_template_rows": null,
            "height": null,
            "justify_content": null,
            "justify_items": null,
            "left": null,
            "margin": null,
            "max_height": null,
            "max_width": null,
            "min_height": null,
            "min_width": null,
            "object_fit": null,
            "object_position": null,
            "order": null,
            "overflow": null,
            "overflow_x": null,
            "overflow_y": null,
            "padding": null,
            "right": null,
            "top": null,
            "visibility": null,
            "width": null
          }
        },
        "cb4adb91b8f149ec81a94c192827a5d1": {
          "model_module": "@jupyter-widgets/controls",
          "model_name": "DescriptionStyleModel",
          "model_module_version": "1.5.0",
          "state": {
            "_model_module": "@jupyter-widgets/controls",
            "_model_module_version": "1.5.0",
            "_model_name": "DescriptionStyleModel",
            "_view_count": null,
            "_view_module": "@jupyter-widgets/base",
            "_view_module_version": "1.2.0",
            "_view_name": "StyleView",
            "description_width": ""
          }
        },
        "4aa3d4c1fb10431593b7c0597f72cde9": {
          "model_module": "@jupyter-widgets/base",
          "model_name": "LayoutModel",
          "model_module_version": "1.2.0",
          "state": {
            "_model_module": "@jupyter-widgets/base",
            "_model_module_version": "1.2.0",
            "_model_name": "LayoutModel",
            "_view_count": null,
            "_view_module": "@jupyter-widgets/base",
            "_view_module_version": "1.2.0",
            "_view_name": "LayoutView",
            "align_content": null,
            "align_items": null,
            "align_self": null,
            "border": null,
            "bottom": null,
            "display": null,
            "flex": null,
            "flex_flow": null,
            "grid_area": null,
            "grid_auto_columns": null,
            "grid_auto_flow": null,
            "grid_auto_rows": null,
            "grid_column": null,
            "grid_gap": null,
            "grid_row": null,
            "grid_template_areas": null,
            "grid_template_columns": null,
            "grid_template_rows": null,
            "height": null,
            "justify_content": null,
            "justify_items": null,
            "left": null,
            "margin": null,
            "max_height": null,
            "max_width": null,
            "min_height": null,
            "min_width": null,
            "object_fit": null,
            "object_position": null,
            "order": null,
            "overflow": null,
            "overflow_x": null,
            "overflow_y": null,
            "padding": null,
            "right": null,
            "top": null,
            "visibility": null,
            "width": null
          }
        },
        "3ca24736018d497ba39cd769b95aecdc": {
          "model_module": "@jupyter-widgets/controls",
          "model_name": "ProgressStyleModel",
          "model_module_version": "1.5.0",
          "state": {
            "_model_module": "@jupyter-widgets/controls",
            "_model_module_version": "1.5.0",
            "_model_name": "ProgressStyleModel",
            "_view_count": null,
            "_view_module": "@jupyter-widgets/base",
            "_view_module_version": "1.2.0",
            "_view_name": "StyleView",
            "bar_color": null,
            "description_width": ""
          }
        },
        "a9c27b555e144b23aca3aff2de828ce4": {
          "model_module": "@jupyter-widgets/base",
          "model_name": "LayoutModel",
          "model_module_version": "1.2.0",
          "state": {
            "_model_module": "@jupyter-widgets/base",
            "_model_module_version": "1.2.0",
            "_model_name": "LayoutModel",
            "_view_count": null,
            "_view_module": "@jupyter-widgets/base",
            "_view_module_version": "1.2.0",
            "_view_name": "LayoutView",
            "align_content": null,
            "align_items": null,
            "align_self": null,
            "border": null,
            "bottom": null,
            "display": null,
            "flex": null,
            "flex_flow": null,
            "grid_area": null,
            "grid_auto_columns": null,
            "grid_auto_flow": null,
            "grid_auto_rows": null,
            "grid_column": null,
            "grid_gap": null,
            "grid_row": null,
            "grid_template_areas": null,
            "grid_template_columns": null,
            "grid_template_rows": null,
            "height": null,
            "justify_content": null,
            "justify_items": null,
            "left": null,
            "margin": null,
            "max_height": null,
            "max_width": null,
            "min_height": null,
            "min_width": null,
            "object_fit": null,
            "object_position": null,
            "order": null,
            "overflow": null,
            "overflow_x": null,
            "overflow_y": null,
            "padding": null,
            "right": null,
            "top": null,
            "visibility": null,
            "width": null
          }
        },
        "372394b9f76644d2b2a9b69c1f15369f": {
          "model_module": "@jupyter-widgets/controls",
          "model_name": "DescriptionStyleModel",
          "model_module_version": "1.5.0",
          "state": {
            "_model_module": "@jupyter-widgets/controls",
            "_model_module_version": "1.5.0",
            "_model_name": "DescriptionStyleModel",
            "_view_count": null,
            "_view_module": "@jupyter-widgets/base",
            "_view_module_version": "1.2.0",
            "_view_name": "StyleView",
            "description_width": ""
          }
        }
      }
    }
  },
  "nbformat": 4,
  "nbformat_minor": 0
}