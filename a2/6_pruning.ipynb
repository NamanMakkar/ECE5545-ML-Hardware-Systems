{
  "cells": [
    {
      "cell_type": "markdown",
      "metadata": {
        "id": "view-in-github"
      },
      "source": [
        "<a href=\"https://colab.research.google.com/github/ML-HW-SYS/a2/blob/main/6_pruning.ipynb\" target=\"_parent\"><img src=\"https://colab.research.google.com/assets/colab-badge.svg\" alt=\"Open In Colab\"/></a>"
      ]
    },
    {
      "cell_type": "markdown",
      "metadata": {
        "id": "rT9UCMkJpQt4"
      },
      "source": [
        "# **6. Model Pruning**"
      ]
    },
    {
      "cell_type": "markdown",
      "metadata": {
        "id": "z69Judy_pm0f"
      },
      "source": [
        "## 6.0 Setup GDrive and Git"
      ]
    },
    {
      "cell_type": "code",
      "execution_count": 1,
      "metadata": {
        "colab": {
          "base_uri": "https://localhost:8080/"
        },
        "id": "lDjNQ68KByBz",
        "outputId": "7427d72a-2645-4f97-a455-47626b760f73"
      },
      "outputs": [
        {
          "name": "stdout",
          "output_type": "stream",
          "text": [
            "Mounted at /content/drive\n"
          ]
        }
      ],
      "source": [
        "# Mount google drive\n",
        "from google.colab import drive\n",
        "drive.mount('/content/drive')"
      ]
    },
    {
      "cell_type": "code",
      "execution_count": 2,
      "metadata": {
        "id": "Xc4_W3YKB7g_"
      },
      "outputs": [],
      "source": [
        "# Make sure your token is stored in a txt file at the location below.\n",
        "# This way there is no risk that you will push it to your repo\n",
        "# Never share your token with anyone, it is basically your github password!\n",
        "with open('/content/drive/MyDrive/ece5545/token.txt') as f:\n",
        "    token = f.readline().strip()\n",
        "# Use another file to store your github username    \n",
        "with open('/content/drive/MyDrive/ece5545/git_username.txt') as f:\n",
        "    handle = f.readline().strip()"
      ]
    },
    {
      "cell_type": "code",
      "execution_count": 3,
      "metadata": {
        "colab": {
          "base_uri": "https://localhost:8080/"
        },
        "id": "hCPU1IvvB7r6",
        "outputId": "06a372ce-1276-414e-c1c4-3b7bb29932a5"
      },
      "outputs": [
        {
          "name": "stdout",
          "output_type": "stream",
          "text": [
            "mkdir: cannot create directory ‘/content/drive/MyDrive/ece5545’: File exists\n",
            "/content/drive/MyDrive/ece5545\n",
            "fatal: destination path 'a2-NamanMakkar' already exists and is not an empty directory.\n",
            "/content/drive/MyDrive/ece5545/a2-NamanMakkar\n",
            "Already on 'main'\n",
            "Your branch is up to date with 'origin/main'.\n",
            "Already up to date.\n",
            "/content/drive/MyDrive/ece5545\n"
          ]
        }
      ],
      "source": [
        "# Clone your github repo\n",
        "YOUR_TOKEN = token\n",
        "YOUR_HANDLE = handle\n",
        "BRANCH = \"main\"\n",
        "\n",
        "%mkdir /content/drive/MyDrive/ece5545\n",
        "%cd /content/drive/MyDrive/ece5545\n",
        "!git clone https://{YOUR_TOKEN}@github.com/ML-HW-SYS/a2-{YOUR_HANDLE}.git\n",
        "%cd /content/drive/MyDrive/ece5545/a2-{YOUR_HANDLE}\n",
        "!git checkout {BRANCH}\n",
        "!git pull\n",
        "%cd /content/drive/MyDrive/ece5545\n",
        "\n",
        "PROJECT_ROOT = f\"/content/drive/MyDrive/ece5545/a2-{YOUR_HANDLE}\""
      ]
    },
    {
      "cell_type": "code",
      "execution_count": 4,
      "metadata": {
        "id": "aKMJj5f1B7zb"
      },
      "outputs": [],
      "source": [
        "# This extension reloads all imports before running each cell\n",
        "%load_ext autoreload\n",
        "%autoreload 2"
      ]
    },
    {
      "cell_type": "markdown",
      "metadata": {
        "id": "jWpupyC8p7fD"
      },
      "source": [
        "### GPU: Ensure you are running the GPU runtime type:\n",
        "1.   Click \"Runtime\" on top banner\n",
        "2.   Select \"Change runtime type\"\n",
        "3.   Under \"Hardware accelarator\" select \"GPU\" and save"
      ]
    },
    {
      "cell_type": "markdown",
      "metadata": {
        "id": "Se1IC3sCqTYF"
      },
      "source": [
        "### Install required packages"
      ]
    },
    {
      "cell_type": "code",
      "execution_count": 5,
      "metadata": {
        "colab": {
          "base_uri": "https://localhost:8080/"
        },
        "id": "0VWKHppopJTu",
        "outputId": "684250f3-d8e3-4e5d-b5d9-69fe388c936d"
      },
      "outputs": [
        {
          "name": "stdout",
          "output_type": "stream",
          "text": [
            "Looking in indexes: https://pypi.org/simple, https://us-python.pkg.dev/colab-wheels/public/simple/\n",
            "Requirement already satisfied: torchaudio in /usr/local/lib/python3.9/dist-packages (0.13.1+cu116)\n",
            "Requirement already satisfied: torch==1.13.1 in /usr/local/lib/python3.9/dist-packages (from torchaudio) (1.13.1+cu116)\n",
            "Requirement already satisfied: typing-extensions in /usr/local/lib/python3.9/dist-packages (from torch==1.13.1->torchaudio) (4.5.0)\n"
          ]
        }
      ],
      "source": [
        "!pip install torchaudio"
      ]
    },
    {
      "cell_type": "markdown",
      "metadata": {
        "id": "GbUE5nAHqhEo"
      },
      "source": [
        "### Import code dependencies"
      ]
    },
    {
      "cell_type": "code",
      "execution_count": 6,
      "metadata": {
        "colab": {
          "base_uri": "https://localhost:8080/"
        },
        "id": "bqEyUIUnpJTx",
        "outputId": "305f1620-b61e-4ad9-e27e-56fcc5fde75d"
      },
      "outputs": [
        {
          "name": "stdout",
          "output_type": "stream",
          "text": [
            "Model folders are created, \n",
            "PyTorch models will be saved in /content/drive/MyDrive/ece5545/models/torch_models, \n",
            "ONNX models will be saved in /content/drive/MyDrive/ece5545/models/onnx_models, \n",
            "TensorFlow Saved Models will be saved in /content/drive/MyDrive/ece5545/models/tf_models, \n",
            "TensorFlow Lite models will be saved in /content/drive/MyDrive/ece5545/models/tflite_models, \n",
            "TensorFlow Lite Micro models will be saved in /content/drive/MyDrive/ece5545/models/micro_models.\n"
          ]
        }
      ],
      "source": [
        "# Import libraries \n",
        "import torch\n",
        "import torch.nn as nn\n",
        "import torch.nn.functional as F\n",
        "import torch.optim as optim\n",
        "import torch.nn.utils.prune as prune\n",
        "\n",
        "import matplotlib.pyplot as plt\n",
        "from tqdm.notebook import tqdm\n",
        "import numpy as np\n",
        "import copy\n",
        "\n",
        "import time\n",
        "\n",
        "import sys\n",
        "\n",
        "# Adding assignment1 to the system path-- make sure this matches your git directory\n",
        "sys.path.insert(0, PROJECT_ROOT)\n",
        "\n",
        "# Import data_proc to use data processing functions\n",
        "import src.data_proc as data_proc\n",
        "\n",
        "# Import constants to use constants defined for training\n",
        "from src.constants import *\n",
        "\n",
        "# TensorBoard\n",
        "from torch.utils.tensorboard import SummaryWriter\n",
        "\n",
        "# Set random seed\n",
        "# Make sure the shuffling and picking is deterministic\n",
        "# Note that different value of random_seed may change rate of variation in loss/accuracy during training\n",
        "# Using the same random seed value every time you rerun the notebook will \n",
        "# reproduce the training and testing results  \n",
        "random_seed = 0\n",
        "torch.manual_seed(random_seed)\n",
        "torch.cuda.manual_seed(random_seed)"
      ]
    },
    {
      "cell_type": "markdown",
      "metadata": {
        "id": "tfyFWNsHpJTy"
      },
      "source": [
        "## 6.1 Prepare for Training\n",
        "\n"
      ]
    },
    {
      "cell_type": "code",
      "execution_count": 7,
      "metadata": {
        "colab": {
          "base_uri": "https://localhost:8080/"
        },
        "id": "NEBTHpmypJTz",
        "outputId": "69324759-c25b-41ad-8836-a63f4f4e01ec"
      },
      "outputs": [
        {
          "name": "stdout",
          "output_type": "stream",
          "text": [
            "Audio_processor created\n",
            "Using cuda to run the training scrpit.\n",
            "Train size: 10556 Val size: 1333 Test size: 1368\n"
          ]
        },
        {
          "data": {
            "text/plain": [
              "TinyConv(\n",
              "  (conv_reshape): Reshape(output_shape=(-1, 1, 49, 40))\n",
              "  (conv): Conv2d(1, 8, kernel_size=(10, 8), stride=(2, 2), padding=(5, 3))\n",
              "  (relu): ReLU()\n",
              "  (dropout): Dropout(p=0.5, inplace=False)\n",
              "  (fc_reshape): Reshape(output_shape=(-1, 4000))\n",
              "  (fc): Linear(in_features=4000, out_features=4, bias=True)\n",
              "  (softmax): Softmax(dim=1)\n",
              ")"
            ]
          },
          "execution_count": 7,
          "metadata": {},
          "output_type": "execute_result"
        }
      ],
      "source": [
        "# Create audio_processor\n",
        "# DATASET_DIR is defined in constants.py\n",
        "audio_processor = data_proc.AudioProcessor()\n",
        "print(\"Audio_processor created\")\n",
        "\n",
        "# Define device\n",
        "device = torch.device(\"cuda\" if torch.cuda.is_available() else \"cpu\")\n",
        "print(f'Using {device} to run the training scrpit.')\n",
        "\n",
        "# Define data loaders\n",
        "from src.loaders import make_data_loaders\n",
        "data_loaders = make_data_loaders(audio_processor, device)\n",
        "train_loader = data_loaders['training']\n",
        "test_loader = data_loaders['testing']\n",
        "valid_loader = data_loaders['validation']\n",
        "\n",
        "# Create a full precision (float32) TinyConv model\n",
        "from src.networks import TinyConv\n",
        "model_fp32 = TinyConv(model_settings=audio_processor.model_settings, \\\n",
        "    n_input=1, n_output=audio_processor.num_labels)\n",
        "\n",
        "model_fp32"
      ]
    },
    {
      "cell_type": "code",
      "execution_count": 8,
      "metadata": {
        "id": "lxzbCg7XwhER"
      },
      "outputs": [],
      "source": [
        "TORCH_DIR = PROJECT_ROOT"
      ]
    },
    {
      "cell_type": "code",
      "execution_count": 9,
      "metadata": {
        "colab": {
          "base_uri": "https://localhost:8080/"
        },
        "id": "87-ko6koBE54",
        "outputId": "43c1d4df-bd76-443a-c143-6e5f97beecd9"
      },
      "outputs": [
        {
          "name": "stdout",
          "output_type": "stream",
          "text": [
            " 1_audio_preprocessing.ipynb\n",
            " 2_size_estimator_and_profiler.ipynb\n",
            " 3_training_and_analysis.ipynb\n",
            " 4_model_conversion.ipynb\n",
            " 5_quantization.ipynb\n",
            " 6_pruning.ipynb\n",
            " arduino_nano_33_ble_tutorial.md\n",
            " fp32_checkpoint.pt\n",
            " fp32_finetune_checkpoint.pt\n",
            " images\n",
            " pruned_finetuning_thresh_0.2.pt\n",
            " pruned_finetuning_thresh_0.4.pt\n",
            " pruned_finetuning_thresh_0.5.pt\n",
            " pruned_finetuning_thresh_0.6.pt\n",
            " pruned_finetuning_thresh_0.8.pt\n",
            "'(QAT6bit)quant_0.pt'\n",
            "'(QAT8bit)quant_0.pt'\n",
            " quant_checkpoint.pt\n",
            " README.md\n",
            " src\n",
            " tests\n",
            " tinyconv_float32_init_seed0_90.28%_0.pt\n",
            " unstructured_pruned_finetuning_thresh_0.2.pt\n",
            " unstructured_pruned_finetuning_thresh_0.4.pt\n",
            " unstructured_pruned_finetuning_thresh_0.5.pt\n",
            " unstructured_pruned_finetuning_thresh_0.6.pt\n",
            " unstructured_pruned_finetuning_thresh_0.8.pt\n"
          ]
        }
      ],
      "source": [
        "!ls {TORCH_DIR}"
      ]
    },
    {
      "cell_type": "markdown",
      "metadata": {
        "id": "p0kYnxYUBE54"
      },
      "source": [
        "### **TODO: Replace the torch_path model with the model you created in the last section.** \n",
        "\n",
        "You can find the name of your file in `TORCH_DIR` under the folder icon to the left. (Or from running the tab above)."
      ]
    },
    {
      "cell_type": "code",
      "execution_count": 29,
      "metadata": {
        "colab": {
          "base_uri": "https://localhost:8080/"
        },
        "id": "ZoRiIMnlBE55",
        "outputId": "7672cd1f-4e62-4e07-9c32-83beb052a889"
      },
      "outputs": [
        {
          "data": {
            "text/plain": [
              "(TinyConv(\n",
              "   (conv_reshape): Reshape(output_shape=(-1, 1, 49, 40))\n",
              "   (conv): Conv2d(1, 8, kernel_size=(10, 8), stride=(2, 2), padding=(5, 3))\n",
              "   (relu): ReLU()\n",
              "   (dropout): Dropout(p=0.5, inplace=False)\n",
              "   (fc_reshape): Reshape(output_shape=(-1, 4000))\n",
              "   (fc): Linear(in_features=4000, out_features=4, bias=True)\n",
              "   (softmax): Softmax(dim=1)\n",
              " ), TinyConv(\n",
              "   (conv_reshape): Reshape(output_shape=(-1, 1, 49, 40))\n",
              "   (conv): Conv2d(1, 8, kernel_size=(10, 8), stride=(2, 2), padding=(5, 3))\n",
              "   (relu): ReLU()\n",
              "   (dropout): Dropout(p=0.5, inplace=False)\n",
              "   (fc_reshape): Reshape(output_shape=(-1, 4000))\n",
              "   (fc): Linear(in_features=4000, out_features=4, bias=True)\n",
              "   (softmax): Softmax(dim=1)\n",
              " ))"
            ]
          },
          "execution_count": 29,
          "metadata": {},
          "output_type": "execute_result"
        }
      ],
      "source": [
        "# TODO: Replace me!\n",
        "#torch_path = os.path.join(TORCH_DIR, \"tinyconv_float32_init_seed0_90.28%_0.pt\")\n",
        "torch_path =  os.path.join(TORCH_DIR, \"pruned_finetuning_thresh_0.5.pt\")\n",
        "\n",
        "# Load model\n",
        "model_fp32.load_state_dict(torch.load(torch_path, map_location=device)['model_state_dict'])\n",
        "#model_fp32.load_state_dict(torch.load(torch_path, map_location=device))\n",
        "model_fp32_orig = copy.deepcopy(model_fp32)\n",
        "model_fp32, model_fp32_orig"
      ]
    },
    {
      "cell_type": "code",
      "execution_count": 30,
      "metadata": {
        "colab": {
          "base_uri": "https://localhost:8080/"
        },
        "id": "q4o3gu8haWx_",
        "outputId": "5342e04d-45f1-4cd9-cf7f-cba8acdaf9ce"
      },
      "outputs": [
        {
          "data": {
            "text/plain": [
              "tensor([[[[-1.6049e-01, -8.5469e-02, -6.7049e-02, -4.6235e-02, -5.1525e-02,\n",
              "            1.9815e-02,  4.9400e-02,  8.2303e-02],\n",
              "          [-1.6177e-01, -3.6699e-02, -6.6552e-02, -2.4029e-02, -9.1410e-02,\n",
              "            1.4213e-02,  3.7170e-02,  6.5822e-02],\n",
              "          [-9.6092e-02, -2.3452e-03, -1.1228e-01, -2.9051e-02, -7.0529e-02,\n",
              "            1.8248e-02,  8.1261e-03,  7.4339e-02],\n",
              "          [-1.1286e-01, -3.1520e-03, -8.3295e-02, -3.4378e-02, -8.0701e-02,\n",
              "            1.8453e-02,  1.4996e-03,  6.1127e-02],\n",
              "          [-1.1873e-01, -1.6398e-02, -5.0417e-02, -2.0638e-02, -6.2827e-02,\n",
              "            1.4661e-02, -4.2346e-03,  4.9553e-02],\n",
              "          [-7.4801e-02, -3.1919e-02, -4.8221e-02, -3.3690e-02, -5.7196e-02,\n",
              "            2.0427e-02,  4.9610e-03,  6.9946e-02],\n",
              "          [-5.7756e-02, -7.4576e-03, -3.0986e-03, -5.2570e-03, -3.3491e-02,\n",
              "           -1.2452e-02,  6.6083e-03,  1.8607e-02],\n",
              "          [ 2.4412e-02, -1.8091e-02, -2.3362e-02, -7.4495e-04, -1.5235e-02,\n",
              "           -1.2664e-03,  1.2884e-02,  2.4616e-02],\n",
              "          [ 5.4998e-02, -1.1708e-02,  1.5894e-02, -1.1093e-02,  2.6624e-02,\n",
              "           -5.1348e-02,  5.6869e-02, -6.9920e-02],\n",
              "          [ 5.3322e-02,  3.9589e-02,  3.3560e-02, -3.8238e-03,  1.7698e-02,\n",
              "           -9.4638e-02,  4.2615e-02, -1.6507e-01]]],\n",
              "\n",
              "\n",
              "        [[[-0.0000e+00,  0.0000e+00,  0.0000e+00,  0.0000e+00,  0.0000e+00,\n",
              "           -0.0000e+00, -0.0000e+00, -0.0000e+00],\n",
              "          [ 0.0000e+00,  0.0000e+00,  0.0000e+00,  0.0000e+00,  0.0000e+00,\n",
              "           -0.0000e+00, -0.0000e+00, -0.0000e+00],\n",
              "          [ 0.0000e+00,  0.0000e+00,  0.0000e+00, -0.0000e+00,  0.0000e+00,\n",
              "           -0.0000e+00, -0.0000e+00, -0.0000e+00],\n",
              "          [ 0.0000e+00,  0.0000e+00,  0.0000e+00, -0.0000e+00,  0.0000e+00,\n",
              "           -0.0000e+00, -0.0000e+00, -0.0000e+00],\n",
              "          [ 0.0000e+00,  0.0000e+00,  0.0000e+00,  0.0000e+00, -0.0000e+00,\n",
              "           -0.0000e+00, -0.0000e+00,  0.0000e+00],\n",
              "          [ 0.0000e+00,  0.0000e+00,  0.0000e+00, -0.0000e+00, -0.0000e+00,\n",
              "           -0.0000e+00, -0.0000e+00, -0.0000e+00],\n",
              "          [ 0.0000e+00,  0.0000e+00, -0.0000e+00, -0.0000e+00, -0.0000e+00,\n",
              "           -0.0000e+00, -0.0000e+00, -0.0000e+00],\n",
              "          [-0.0000e+00,  0.0000e+00, -0.0000e+00, -0.0000e+00,  0.0000e+00,\n",
              "            0.0000e+00, -0.0000e+00, -0.0000e+00],\n",
              "          [-0.0000e+00, -0.0000e+00, -0.0000e+00, -0.0000e+00, -0.0000e+00,\n",
              "           -0.0000e+00, -0.0000e+00, -0.0000e+00],\n",
              "          [-0.0000e+00, -0.0000e+00, -0.0000e+00, -0.0000e+00,  0.0000e+00,\n",
              "            0.0000e+00, -0.0000e+00,  0.0000e+00]]],\n",
              "\n",
              "\n",
              "        [[[-0.0000e+00, -0.0000e+00, -0.0000e+00, -0.0000e+00,  0.0000e+00,\n",
              "            0.0000e+00,  0.0000e+00,  0.0000e+00],\n",
              "          [-0.0000e+00, -0.0000e+00, -0.0000e+00, -0.0000e+00, -0.0000e+00,\n",
              "            0.0000e+00,  0.0000e+00,  0.0000e+00],\n",
              "          [-0.0000e+00,  0.0000e+00,  0.0000e+00, -0.0000e+00, -0.0000e+00,\n",
              "           -0.0000e+00,  0.0000e+00,  0.0000e+00],\n",
              "          [-0.0000e+00,  0.0000e+00, -0.0000e+00, -0.0000e+00, -0.0000e+00,\n",
              "            0.0000e+00,  0.0000e+00,  0.0000e+00],\n",
              "          [-0.0000e+00,  0.0000e+00,  0.0000e+00, -0.0000e+00, -0.0000e+00,\n",
              "            0.0000e+00, -0.0000e+00,  0.0000e+00],\n",
              "          [-0.0000e+00,  0.0000e+00, -0.0000e+00, -0.0000e+00,  0.0000e+00,\n",
              "            0.0000e+00,  0.0000e+00,  0.0000e+00],\n",
              "          [-0.0000e+00,  0.0000e+00, -0.0000e+00, -0.0000e+00, -0.0000e+00,\n",
              "           -0.0000e+00, -0.0000e+00,  0.0000e+00],\n",
              "          [-0.0000e+00,  0.0000e+00, -0.0000e+00, -0.0000e+00, -0.0000e+00,\n",
              "            0.0000e+00,  0.0000e+00,  0.0000e+00],\n",
              "          [-0.0000e+00,  0.0000e+00, -0.0000e+00, -0.0000e+00, -0.0000e+00,\n",
              "           -0.0000e+00, -0.0000e+00,  0.0000e+00],\n",
              "          [-0.0000e+00,  0.0000e+00, -0.0000e+00, -0.0000e+00, -0.0000e+00,\n",
              "           -0.0000e+00, -0.0000e+00, -0.0000e+00]]],\n",
              "\n",
              "\n",
              "        [[[ 0.0000e+00,  0.0000e+00, -0.0000e+00, -0.0000e+00, -0.0000e+00,\n",
              "           -0.0000e+00, -0.0000e+00, -0.0000e+00],\n",
              "          [ 0.0000e+00,  0.0000e+00, -0.0000e+00, -0.0000e+00, -0.0000e+00,\n",
              "           -0.0000e+00, -0.0000e+00, -0.0000e+00],\n",
              "          [ 0.0000e+00,  0.0000e+00, -0.0000e+00, -0.0000e+00, -0.0000e+00,\n",
              "           -0.0000e+00, -0.0000e+00,  0.0000e+00],\n",
              "          [ 0.0000e+00,  0.0000e+00, -0.0000e+00, -0.0000e+00, -0.0000e+00,\n",
              "            0.0000e+00, -0.0000e+00,  0.0000e+00],\n",
              "          [ 0.0000e+00,  0.0000e+00, -0.0000e+00, -0.0000e+00,  0.0000e+00,\n",
              "            0.0000e+00, -0.0000e+00,  0.0000e+00],\n",
              "          [-0.0000e+00, -0.0000e+00, -0.0000e+00,  0.0000e+00,  0.0000e+00,\n",
              "            0.0000e+00,  0.0000e+00,  0.0000e+00],\n",
              "          [-0.0000e+00, -0.0000e+00, -0.0000e+00,  0.0000e+00,  0.0000e+00,\n",
              "            0.0000e+00, -0.0000e+00, -0.0000e+00],\n",
              "          [-0.0000e+00, -0.0000e+00, -0.0000e+00, -0.0000e+00, -0.0000e+00,\n",
              "            0.0000e+00,  0.0000e+00,  0.0000e+00],\n",
              "          [-0.0000e+00, -0.0000e+00, -0.0000e+00,  0.0000e+00, -0.0000e+00,\n",
              "            0.0000e+00, -0.0000e+00,  0.0000e+00],\n",
              "          [-0.0000e+00, -0.0000e+00, -0.0000e+00,  0.0000e+00, -0.0000e+00,\n",
              "           -0.0000e+00, -0.0000e+00,  0.0000e+00]]],\n",
              "\n",
              "\n",
              "        [[[-4.3755e-02, -5.0184e-02, -3.5517e-02, -1.2874e-02, -1.5906e-02,\n",
              "            3.6576e-02, -2.4380e-02, -4.3763e-02],\n",
              "          [ 2.7177e-03, -6.0694e-02, -5.2322e-02, -1.0499e-01,  1.2895e-03,\n",
              "            1.2989e-02, -8.7823e-02, -1.5259e-02],\n",
              "          [ 3.2520e-02,  7.2739e-02,  1.0886e-01,  6.2039e-02,  1.3777e-02,\n",
              "           -4.0164e-02,  5.0385e-02, -4.7218e-03],\n",
              "          [-2.7385e-02,  7.1389e-02,  4.4693e-02,  2.3628e-02, -4.9119e-02,\n",
              "            3.5628e-03, -5.4608e-02,  2.1570e-02],\n",
              "          [-3.1896e-02, -5.8887e-04, -5.8691e-03,  1.9595e-02, -2.9282e-02,\n",
              "            3.4799e-02, -5.3175e-02,  4.9029e-03],\n",
              "          [-2.1440e-02, -8.2213e-02, -9.3640e-02,  6.4593e-02,  2.5148e-02,\n",
              "            7.7872e-02,  4.0185e-02, -6.3769e-02],\n",
              "          [-8.4190e-02, -3.2487e-02, -2.5781e-02,  2.0989e-02, -1.0109e-01,\n",
              "           -1.5657e-03, -8.5791e-02, -2.5547e-02],\n",
              "          [ 1.9195e-02,  5.2693e-02,  2.8715e-02,  6.1788e-02,  8.1685e-02,\n",
              "           -1.9940e-02, -3.0931e-03,  4.7995e-02],\n",
              "          [-2.3874e-02,  6.2670e-02,  3.3964e-02,  1.0890e-02, -1.1014e-01,\n",
              "            5.1102e-02,  1.3050e-02, -2.5388e-02],\n",
              "          [-9.6234e-02, -6.1938e-02, -8.6572e-02,  5.7813e-02, -1.4612e-02,\n",
              "           -2.4389e-02, -1.4630e-01,  3.0209e-02]]],\n",
              "\n",
              "\n",
              "        [[[-6.8025e-03, -1.9596e-02,  3.8746e-03,  1.3989e-02,  7.3922e-02,\n",
              "           -1.7492e-02,  8.1931e-02,  2.1792e-02],\n",
              "          [-3.7817e-02, -1.7243e-02, -2.0368e-02, -9.9539e-03,  5.4037e-02,\n",
              "           -1.9709e-02,  6.5902e-02,  3.2035e-03],\n",
              "          [-3.3439e-03, -2.2094e-02, -5.8207e-02, -9.9047e-03,  3.2795e-02,\n",
              "           -3.0455e-02,  6.2563e-02,  2.3538e-03],\n",
              "          [ 1.1033e-02, -2.9143e-02, -3.5306e-02, -1.2850e-02,  2.8553e-02,\n",
              "           -1.3435e-02,  4.9902e-02,  2.4574e-02],\n",
              "          [-1.2801e-02, -2.7401e-02, -4.0156e-02, -1.3575e-02,  1.5672e-04,\n",
              "            4.3321e-04,  2.8124e-02,  1.7541e-02],\n",
              "          [-1.3906e-02, -1.7217e-02, -3.4454e-02, -2.8919e-02, -2.4613e-02,\n",
              "            2.1196e-03,  9.5102e-03,  1.7987e-02],\n",
              "          [ 4.7750e-04,  1.4381e-02, -1.3930e-02, -1.0728e-03, -6.0817e-02,\n",
              "            3.9343e-02, -1.1430e-01, -6.9885e-03],\n",
              "          [-8.6819e-03, -2.4172e-02, -1.2812e-01, -3.3038e-02, -1.2721e-01,\n",
              "           -4.5920e-02, -1.8618e-02, -3.3583e-02],\n",
              "          [ 1.0678e-02,  2.3119e-02, -7.9886e-02, -7.8224e-02, -8.8360e-02,\n",
              "           -2.7690e-02, -5.1090e-02, -4.9319e-02],\n",
              "          [ 4.2596e-02, -2.2923e-02, -1.5601e-02, -3.1132e-02, -1.5416e-01,\n",
              "            1.9805e-02, -8.5031e-02, -2.4862e-02]]],\n",
              "\n",
              "\n",
              "        [[[ 0.0000e+00,  0.0000e+00,  0.0000e+00, -0.0000e+00,  0.0000e+00,\n",
              "           -0.0000e+00,  0.0000e+00, -0.0000e+00],\n",
              "          [-0.0000e+00, -0.0000e+00,  0.0000e+00, -0.0000e+00,  0.0000e+00,\n",
              "           -0.0000e+00,  0.0000e+00, -0.0000e+00],\n",
              "          [-0.0000e+00, -0.0000e+00,  0.0000e+00, -0.0000e+00,  0.0000e+00,\n",
              "           -0.0000e+00,  0.0000e+00, -0.0000e+00],\n",
              "          [-0.0000e+00, -0.0000e+00, -0.0000e+00, -0.0000e+00,  0.0000e+00,\n",
              "           -0.0000e+00,  0.0000e+00, -0.0000e+00],\n",
              "          [-0.0000e+00, -0.0000e+00, -0.0000e+00, -0.0000e+00,  0.0000e+00,\n",
              "           -0.0000e+00,  0.0000e+00,  0.0000e+00],\n",
              "          [-0.0000e+00, -0.0000e+00, -0.0000e+00, -0.0000e+00,  0.0000e+00,\n",
              "           -0.0000e+00,  0.0000e+00,  0.0000e+00],\n",
              "          [-0.0000e+00, -0.0000e+00, -0.0000e+00, -0.0000e+00,  0.0000e+00,\n",
              "           -0.0000e+00,  0.0000e+00,  0.0000e+00],\n",
              "          [-0.0000e+00,  0.0000e+00, -0.0000e+00,  0.0000e+00,  0.0000e+00,\n",
              "           -0.0000e+00,  0.0000e+00,  0.0000e+00],\n",
              "          [-0.0000e+00, -0.0000e+00, -0.0000e+00, -0.0000e+00,  0.0000e+00,\n",
              "           -0.0000e+00,  0.0000e+00,  0.0000e+00],\n",
              "          [ 0.0000e+00, -0.0000e+00, -0.0000e+00, -0.0000e+00, -0.0000e+00,\n",
              "           -0.0000e+00, -0.0000e+00, -0.0000e+00]]],\n",
              "\n",
              "\n",
              "        [[[ 1.1844e-01,  1.1481e-02,  2.7244e-02, -2.5847e-02, -1.1827e-01,\n",
              "           -1.3424e-02, -8.1548e-02, -3.8803e-02],\n",
              "          [ 1.2769e-01,  4.7343e-02,  7.5831e-02, -3.9230e-02, -5.9570e-02,\n",
              "           -6.4047e-02, -9.3420e-02, -4.2967e-02],\n",
              "          [ 8.9194e-02, -6.5743e-03,  6.3436e-02,  1.7193e-02, -2.0573e-02,\n",
              "           -6.8897e-02, -4.7583e-02, -5.4478e-02],\n",
              "          [ 5.9781e-02,  2.7169e-02, -4.3691e-05, -1.6964e-02, -1.4071e-02,\n",
              "            3.2104e-02, -3.6218e-02, -5.1763e-02],\n",
              "          [-5.3927e-02,  6.4600e-02,  2.5067e-03, -9.8810e-03, -8.8579e-02,\n",
              "            4.0179e-02, -1.7448e-03,  4.4719e-02],\n",
              "          [-9.5683e-02,  4.5918e-03, -3.5066e-02,  2.7080e-02, -2.5762e-02,\n",
              "            9.3752e-03,  1.5259e-02,  4.5044e-02],\n",
              "          [-1.2355e-01, -3.1478e-03, -5.1409e-02, -6.6735e-02,  2.6808e-02,\n",
              "           -2.2967e-02, -2.1545e-02,  7.1745e-02],\n",
              "          [-7.3133e-02, -2.0675e-02, -1.5129e-02, -3.7314e-02, -9.4091e-02,\n",
              "            3.0119e-02, -3.4190e-02, -2.4074e-02],\n",
              "          [-7.1255e-02, -5.1645e-02, -8.4314e-03, -5.3798e-02, -8.2444e-02,\n",
              "           -1.5048e-02, -1.5069e-02, -9.4995e-03],\n",
              "          [-9.5455e-02, -6.3791e-02, -1.0435e-01, -9.3500e-02, -9.2081e-02,\n",
              "           -9.3641e-02, -1.4531e-01, -3.7668e-03]]]])"
            ]
          },
          "execution_count": 30,
          "metadata": {},
          "output_type": "execute_result"
        }
      ],
      "source": [
        "model_fp32.conv.weight.data"
      ]
    },
    {
      "cell_type": "markdown",
      "metadata": {
        "id": "ybjOCEoRpJT5"
      },
      "source": [
        "## 6.2 Structured Pruning\n",
        "\n",
        "In this section, you will try to conduct structured pruning on the TinyConv model and explore its effect on performance.\n",
        "In this notebook, you will be only given minimum scarfolding code. Please take advantages of the code in previous section to faciliate.\n",
        "\n",
        "Following link will be helpful:\n",
        "[torch.nn.utils.prune.LnStructured](https://pytorch.org/docs/stable/generated/torch.nn.utils.prune.LnStructured.html?highlight=prune#torch.nn.utils.prune.LnStructured.prune)\n",
        "[Torch pruning tutorial](https://pytorch.org/tutorials/intermediate/pruning_tutorial.html?highlight=prune)"
      ]
    },
    {
      "cell_type": "code",
      "execution_count": null,
      "metadata": {
        "colab": {
          "base_uri": "https://localhost:8080/"
        },
        "id": "MIVCJZIAUe7-",
        "outputId": "ea5a465a-3c92-4a23-bd14-6260e9473382"
      },
      "outputs": [
        {
          "name": "stdout",
          "output_type": "stream",
          "text": [
            "16652\n"
          ]
        }
      ],
      "source": [
        "from src.size_estimate import count_trainable_parameters\n",
        "from src.size_estimate import flop\n",
        "from torch.nn.utils import prune\n",
        "from src.train_val_test_utils import test\n",
        "\n",
        "def structured_pruning(model, threshold, n=1):\n",
        "  m = copy.deepcopy(model)\n",
        "  m.train()\n",
        "  for name, module in m.named_modules():\n",
        "    if isinstance(module, nn.Conv2d) or isinstance(module, nn.Linear):\n",
        "      prune.ln_structured(module, name='weight', n=n, amount=threshold, dim=0)\n",
        "      prune.remove(module, 'weight')\n",
        "  return m\n",
        "\n",
        "def unstructured_pruning(model, threshold):\n",
        "  prune_iterations = 3\n",
        "  #for name, module in m.named_modules():\n",
        "  #  if isinstance(module, torch.nn.Conv2d) or isinstance(module, torch.nn.Linear):\n",
        "  #    prune.random_unstructured(module, name='weight', amount=threshold)\n",
        "  #    prune.remove(module, 'weight')\n",
        "\n",
        "  prune_params = (\n",
        "    (model.conv, 'weight'),\n",
        "    (model.fc, 'weight'))\n",
        "  \n",
        "  prune_amounts = 0.5\n",
        "\n",
        "  # Apply the pruning\n",
        "  prune.global_unstructured(\n",
        "    prune_params,\n",
        "    pruning_method=prune.L1Unstructured,\n",
        "    amount=prune_amounts)\n",
        "  \n",
        "  prune.remove(model.conv, 'weight')\n",
        "  prune.remove(model.fc, 'weight')\n",
        "  \n",
        "  return model\n",
        "\n",
        "def prune_unstr(model, threshold):\n",
        "  model2 = copy.deepcopy(model)\n",
        "  params_to_prune = [(module, 'weight') for module in filter(lambda m: type(m) == torch.nn.Conv2d, model2.modules())]\n",
        "  prune.global_unstructured(params_to_prune, pruning_method=prune.L1Unstructured, amount=threshold)\n",
        "  for module, name in params_to_prune:\n",
        "    prune.remove(module, name)\n",
        "  return model2\n",
        "\n",
        "'''prune_params = (\n",
        "    (model_fp32.conv, 'weight'),\n",
        "    (model_fp32.fc, 'weight'))\n",
        "\n",
        "prune_amounts = 0.5\n",
        "\n",
        "prune.global_unstructured(\n",
        "    prune_params,\n",
        "    pruning_method=prune.L1Unstructured,\n",
        "    amount=prune_amounts)\n",
        "  \n",
        "prune.remove(model_fp32.conv, 'weight')\n",
        "prune.remove(model_fp32.fc, 'weight') '''\n",
        "\n",
        "#m = copy.deepcopy(model_fp32)\n",
        "#model_fp32.train()\n",
        "\n",
        "#m = structured_pruning(model_fp32,0.5,n=1)\n",
        "#total_params = sum(p.numel() for p in model_fp32.parameters() if p.requires_grad)\n",
        "#total_params_pruned = sum(p.numel() for p in m.parameters() if p.requires_grad and p.numel() != 0)\n",
        "#print(total_params_pruned)"
      ]
    },
    {
      "cell_type": "code",
      "execution_count": null,
      "metadata": {
        "colab": {
          "base_uri": "https://localhost:8080/"
        },
        "id": "_8bxVQCBNBcp",
        "outputId": "15820ccf-98ce-46ee-a4cc-546b061e07e9"
      },
      "outputs": [
        {
          "data": {
            "text/plain": [
              "TinyConv(\n",
              "  (conv_reshape): Reshape(output_shape=(-1, 1, 49, 40))\n",
              "  (conv): Conv2d(1, 8, kernel_size=(10, 8), stride=(2, 2), padding=(5, 3))\n",
              "  (relu): ReLU()\n",
              "  (dropout): Dropout(p=0.5, inplace=False)\n",
              "  (fc_reshape): Reshape(output_shape=(-1, 4000))\n",
              "  (fc): Linear(in_features=4000, out_features=4, bias=True)\n",
              "  (softmax): Softmax(dim=1)\n",
              ")"
            ]
          },
          "execution_count": 18,
          "metadata": {},
          "output_type": "execute_result"
        }
      ],
      "source": [
        "#m"
      ]
    },
    {
      "cell_type": "code",
      "execution_count": null,
      "metadata": {
        "colab": {
          "base_uri": "https://localhost:8080/"
        },
        "id": "7Xl2eEp3zFR_",
        "outputId": "195a1d5a-0b7d-466f-a266-face873332d7"
      },
      "outputs": [
        {
          "data": {
            "text/plain": [
              "640"
            ]
          },
          "execution_count": 23,
          "metadata": {},
          "output_type": "execute_result"
        }
      ],
      "source": [
        "#m.conv.weight.nelement()"
      ]
    },
    {
      "cell_type": "code",
      "execution_count": null,
      "metadata": {
        "colab": {
          "base_uri": "https://localhost:8080/"
        },
        "id": "QSRoFYlYx2aD",
        "outputId": "87970e14-489e-458d-d2ee-e210e2725423"
      },
      "outputs": [
        {
          "data": {
            "text/plain": [
              "8332.0"
            ]
          },
          "execution_count": 25,
          "metadata": {},
          "output_type": "execute_result"
        }
      ],
      "source": [
        "#float(m.conv.weight.nelement() - torch.sum(m.conv.weight == 0) + m.conv.bias.nelement() + m.fc.weight.nelement() - torch.sum(m.fc.weight == 0) + m.fc.bias.nelement())"
      ]
    },
    {
      "cell_type": "code",
      "execution_count": null,
      "metadata": {
        "colab": {
          "base_uri": "https://localhost:8080/"
        },
        "id": "he4X6IvFCQD0",
        "outputId": "ba542c22-17a0-45d8-c12c-c78af343a8fb"
      },
      "outputs": [
        {
          "name": "stdout",
          "output_type": "stream",
          "text": [
            "16652\n"
          ]
        }
      ],
      "source": [
        "#print(total_params)"
      ]
    },
    {
      "cell_type": "code",
      "execution_count": null,
      "metadata": {
        "colab": {
          "base_uri": "https://localhost:8080/"
        },
        "id": "nidcWpQHWBTQ",
        "outputId": "6d60b229-7e38-4fd0-ea1d-5ece7f07a907"
      },
      "outputs": [
        {
          "data": {
            "text/plain": [
              "False"
            ]
          },
          "execution_count": 14,
          "metadata": {},
          "output_type": "execute_result"
        }
      ],
      "source": [
        "#model_fp32 == structured_pruning(model_fp32, 0.5)"
      ]
    },
    {
      "cell_type": "code",
      "execution_count": 36,
      "metadata": {
        "colab": {
          "base_uri": "https://localhost:8080/"
        },
        "id": "FnvqZ-P-xOfJ",
        "outputId": "9cf79786-3ed7-4f2c-ac7b-7a7382dafbbb"
      },
      "outputs": [
        {
          "data": {
            "text/plain": [
              "tensor([[[[-0.0000, -0.0000, -0.0000, -0.0000, -0.0000,  0.0000,  0.0000,\n",
              "            0.0000],\n",
              "          [-0.0000, -0.0000, -0.0000, -0.0000, -0.0000,  0.0000,  0.0000,\n",
              "            0.0000],\n",
              "          [-0.0000, -0.0000, -0.0000, -0.0000, -0.0000,  0.0000, -0.0000,\n",
              "            0.0000],\n",
              "          [-0.0000, -0.0000, -0.0000, -0.0000, -0.0000,  0.0000, -0.0000,\n",
              "            0.0000],\n",
              "          [-0.0000, -0.0000, -0.0000, -0.0000, -0.0000,  0.0000, -0.0000,\n",
              "            0.0000],\n",
              "          [-0.0000, -0.0000, -0.0000, -0.0000, -0.0000,  0.0000, -0.0000,\n",
              "            0.0000],\n",
              "          [-0.0000, -0.0000,  0.0000,  0.0000,  0.0000, -0.0000, -0.0000,\n",
              "           -0.0000],\n",
              "          [ 0.0000, -0.0000,  0.0000,  0.0000,  0.0000, -0.0000, -0.0000,\n",
              "           -0.0000],\n",
              "          [ 0.0000, -0.0000, -0.0000, -0.0000,  0.0000, -0.0000,  0.0000,\n",
              "           -0.0000],\n",
              "          [ 0.0000, -0.0000,  0.0000, -0.0000,  0.0000, -0.0000, -0.0000,\n",
              "           -0.0000]]],\n",
              "\n",
              "\n",
              "        [[[-0.0000,  0.0000,  0.0000,  0.0000,  0.0000, -0.0000, -0.0000,\n",
              "           -0.0000],\n",
              "          [ 0.0000,  0.0000,  0.0000,  0.0000,  0.0000, -0.0000, -0.0000,\n",
              "           -0.0000],\n",
              "          [ 0.0000,  0.0000,  0.0000, -0.0000,  0.0000, -0.0000, -0.0000,\n",
              "           -0.0000],\n",
              "          [ 0.0000,  0.0000,  0.0000, -0.0000,  0.0000, -0.0000, -0.0000,\n",
              "           -0.0000],\n",
              "          [ 0.0000,  0.0000,  0.0000,  0.0000, -0.0000, -0.0000, -0.0000,\n",
              "            0.0000],\n",
              "          [ 0.0000,  0.0000,  0.0000, -0.0000, -0.0000, -0.0000, -0.0000,\n",
              "           -0.0000],\n",
              "          [ 0.0000,  0.0000, -0.0000, -0.0000, -0.0000, -0.0000, -0.0000,\n",
              "           -0.0000],\n",
              "          [-0.0000,  0.0000, -0.0000, -0.0000,  0.0000,  0.0000, -0.0000,\n",
              "           -0.0000],\n",
              "          [-0.0000, -0.0000, -0.0000, -0.0000, -0.0000, -0.0000, -0.0000,\n",
              "           -0.0000],\n",
              "          [-0.0000, -0.0000, -0.0000, -0.0000,  0.0000,  0.0000, -0.0000,\n",
              "            0.0000]]],\n",
              "\n",
              "\n",
              "        [[[-0.0000, -0.0000, -0.0000, -0.0000,  0.0000,  0.0000,  0.0000,\n",
              "            0.0000],\n",
              "          [-0.0000, -0.0000, -0.0000, -0.0000, -0.0000,  0.0000,  0.0000,\n",
              "            0.0000],\n",
              "          [-0.0000,  0.0000,  0.0000, -0.0000, -0.0000, -0.0000,  0.0000,\n",
              "            0.0000],\n",
              "          [-0.0000,  0.0000, -0.0000, -0.0000, -0.0000,  0.0000,  0.0000,\n",
              "            0.0000],\n",
              "          [-0.0000,  0.0000,  0.0000, -0.0000, -0.0000,  0.0000, -0.0000,\n",
              "            0.0000],\n",
              "          [-0.0000,  0.0000, -0.0000, -0.0000,  0.0000,  0.0000,  0.0000,\n",
              "            0.0000],\n",
              "          [-0.0000,  0.0000, -0.0000, -0.0000, -0.0000, -0.0000, -0.0000,\n",
              "            0.0000],\n",
              "          [-0.0000,  0.0000, -0.0000, -0.0000, -0.0000,  0.0000,  0.0000,\n",
              "            0.0000],\n",
              "          [-0.0000,  0.0000, -0.0000, -0.0000, -0.0000, -0.0000, -0.0000,\n",
              "            0.0000],\n",
              "          [-0.0000,  0.0000, -0.0000, -0.0000, -0.0000, -0.0000, -0.0000,\n",
              "           -0.0000]]],\n",
              "\n",
              "\n",
              "        [[[ 0.0000,  0.0000, -0.0000, -0.0000, -0.0000, -0.0000, -0.0000,\n",
              "           -0.0000],\n",
              "          [ 0.0000,  0.0000, -0.0000, -0.0000, -0.0000, -0.0000, -0.0000,\n",
              "           -0.0000],\n",
              "          [ 0.0000,  0.0000, -0.0000, -0.0000, -0.0000, -0.0000, -0.0000,\n",
              "            0.0000],\n",
              "          [ 0.0000,  0.0000, -0.0000, -0.0000, -0.0000,  0.0000, -0.0000,\n",
              "            0.0000],\n",
              "          [ 0.0000,  0.0000, -0.0000, -0.0000,  0.0000,  0.0000, -0.0000,\n",
              "            0.0000],\n",
              "          [-0.0000, -0.0000, -0.0000,  0.0000,  0.0000,  0.0000,  0.0000,\n",
              "            0.0000],\n",
              "          [-0.0000, -0.0000, -0.0000,  0.0000,  0.0000,  0.0000, -0.0000,\n",
              "           -0.0000],\n",
              "          [-0.0000, -0.0000, -0.0000, -0.0000, -0.0000,  0.0000,  0.0000,\n",
              "            0.0000],\n",
              "          [-0.0000, -0.0000, -0.0000,  0.0000, -0.0000,  0.0000, -0.0000,\n",
              "            0.0000],\n",
              "          [-0.0000, -0.0000, -0.0000,  0.0000, -0.0000, -0.0000, -0.0000,\n",
              "            0.0000]]],\n",
              "\n",
              "\n",
              "        [[[-0.0000, -0.0000, -0.0000, -0.0000,  0.0000,  0.0000,  0.0000,\n",
              "           -0.0000],\n",
              "          [-0.0000, -0.0000, -0.0000, -0.0000,  0.0000,  0.0000, -0.0000,\n",
              "           -0.0000],\n",
              "          [ 0.0000,  0.0000,  0.0000,  0.0000,  0.0000, -0.0000,  0.0000,\n",
              "           -0.0000],\n",
              "          [-0.0000,  0.0000,  0.0000,  0.0000, -0.0000,  0.0000, -0.0000,\n",
              "            0.0000],\n",
              "          [-0.0000,  0.0000,  0.0000,  0.0000, -0.0000,  0.0000, -0.0000,\n",
              "           -0.0000],\n",
              "          [-0.0000, -0.0000, -0.0000,  0.0000,  0.0000,  0.0000,  0.0000,\n",
              "           -0.0000],\n",
              "          [-0.0000, -0.0000, -0.0000,  0.0000, -0.0000, -0.0000, -0.0000,\n",
              "           -0.0000],\n",
              "          [ 0.0000,  0.0000,  0.0000,  0.0000,  0.0000, -0.0000, -0.0000,\n",
              "            0.0000],\n",
              "          [-0.0000,  0.0000,  0.0000,  0.0000, -0.0000,  0.0000,  0.0000,\n",
              "           -0.0000],\n",
              "          [-0.0000, -0.0000, -0.0000,  0.0000, -0.0000, -0.0000, -0.0000,\n",
              "            0.0000]]],\n",
              "\n",
              "\n",
              "        [[[-0.0052, -0.0508, -0.0108, -0.0042,  0.0578, -0.0417,  0.0690,\n",
              "            0.0423],\n",
              "          [-0.0353, -0.0612, -0.0107, -0.0142,  0.0696, -0.0276,  0.0437,\n",
              "            0.0221],\n",
              "          [ 0.0480, -0.0629, -0.0421,  0.0046,  0.0574, -0.0369,  0.0032,\n",
              "            0.0139],\n",
              "          [ 0.0549, -0.1306,  0.0278, -0.0071,  0.0685, -0.0528, -0.0660,\n",
              "            0.0399],\n",
              "          [-0.0216, -0.0972,  0.0075, -0.0118,  0.0370, -0.0402, -0.0738,\n",
              "           -0.0026],\n",
              "          [-0.1355, -0.2187, -0.1148, -0.0968, -0.1267, -0.0885, -0.1025,\n",
              "           -0.0094],\n",
              "          [-0.0322, -0.1254, -0.0515, -0.1144, -0.0094, -0.0477, -0.1493,\n",
              "           -0.0047],\n",
              "          [-0.0454, -0.0834, -0.1368, -0.1022, -0.1348, -0.0860,  0.0177,\n",
              "           -0.0237],\n",
              "          [ 0.0184, -0.0539, -0.1033, -0.1833, -0.1026, -0.1126, -0.0038,\n",
              "           -0.0068],\n",
              "          [ 0.0192, -0.0954, -0.0245, -0.1488, -0.1420, -0.0704, -0.0710,\n",
              "           -0.0023]]],\n",
              "\n",
              "\n",
              "        [[[ 0.0000,  0.0000,  0.0000, -0.0000,  0.0000, -0.0000,  0.0000,\n",
              "           -0.0000],\n",
              "          [-0.0000, -0.0000,  0.0000, -0.0000,  0.0000, -0.0000,  0.0000,\n",
              "           -0.0000],\n",
              "          [-0.0000, -0.0000,  0.0000, -0.0000,  0.0000, -0.0000,  0.0000,\n",
              "           -0.0000],\n",
              "          [-0.0000, -0.0000, -0.0000, -0.0000,  0.0000, -0.0000,  0.0000,\n",
              "           -0.0000],\n",
              "          [-0.0000, -0.0000, -0.0000, -0.0000,  0.0000, -0.0000,  0.0000,\n",
              "            0.0000],\n",
              "          [-0.0000, -0.0000, -0.0000, -0.0000,  0.0000, -0.0000,  0.0000,\n",
              "            0.0000],\n",
              "          [-0.0000, -0.0000, -0.0000, -0.0000,  0.0000, -0.0000,  0.0000,\n",
              "            0.0000],\n",
              "          [-0.0000,  0.0000, -0.0000,  0.0000,  0.0000, -0.0000,  0.0000,\n",
              "            0.0000],\n",
              "          [-0.0000, -0.0000, -0.0000, -0.0000,  0.0000, -0.0000,  0.0000,\n",
              "            0.0000],\n",
              "          [ 0.0000, -0.0000, -0.0000, -0.0000, -0.0000, -0.0000, -0.0000,\n",
              "           -0.0000]]],\n",
              "\n",
              "\n",
              "        [[[ 0.0000, -0.0000, -0.0000, -0.0000, -0.0000, -0.0000, -0.0000,\n",
              "           -0.0000],\n",
              "          [ 0.0000,  0.0000,  0.0000, -0.0000, -0.0000, -0.0000, -0.0000,\n",
              "           -0.0000],\n",
              "          [ 0.0000, -0.0000,  0.0000,  0.0000,  0.0000, -0.0000, -0.0000,\n",
              "           -0.0000],\n",
              "          [ 0.0000,  0.0000,  0.0000,  0.0000,  0.0000,  0.0000, -0.0000,\n",
              "           -0.0000],\n",
              "          [-0.0000,  0.0000,  0.0000,  0.0000, -0.0000,  0.0000,  0.0000,\n",
              "            0.0000],\n",
              "          [-0.0000,  0.0000, -0.0000,  0.0000, -0.0000,  0.0000,  0.0000,\n",
              "            0.0000],\n",
              "          [-0.0000,  0.0000, -0.0000, -0.0000,  0.0000, -0.0000,  0.0000,\n",
              "            0.0000],\n",
              "          [-0.0000,  0.0000,  0.0000, -0.0000, -0.0000,  0.0000, -0.0000,\n",
              "           -0.0000],\n",
              "          [-0.0000, -0.0000,  0.0000, -0.0000, -0.0000, -0.0000,  0.0000,\n",
              "           -0.0000],\n",
              "          [-0.0000, -0.0000, -0.0000, -0.0000, -0.0000, -0.0000, -0.0000,\n",
              "           -0.0000]]]])"
            ]
          },
          "execution_count": 36,
          "metadata": {},
          "output_type": "execute_result"
        }
      ],
      "source": [
        "from src.size_estimate import count_trainable_parameters\n",
        "from src.size_estimate import flop\n",
        "import torch.nn.utils.prune as prune\n",
        "from src.train_val_test_utils import test\n",
        "\n",
        "def structured_pruning(model, threshold, n=1):\n",
        "  m = copy.deepcopy(model)\n",
        "  for name, module in m.named_modules():\n",
        "    if isinstance(module, nn.Conv2d) or isinstance(module, nn.Linear):\n",
        "      prune.ln_structured(module, name='weight', n=n, amount=threshold, dim=0)\n",
        "      prune.remove(module, 'weight')\n",
        "  return m\n",
        "\n",
        "#thresholds = [0.2, 0.4, 0.5, 0.6, 0.9]\n",
        "\n",
        "#m = structured_pruning(model_fp32, 0.85, n=1)\n",
        "#m.conv.weight.data"
      ]
    },
    {
      "cell_type": "code",
      "execution_count": 12,
      "metadata": {
        "colab": {
          "base_uri": "https://localhost:8080/"
        },
        "id": "EAbsnQD6LSYR",
        "outputId": "d3bc9e0e-ce16-454e-f3e9-bbf7eff3f028"
      },
      "outputs": [
        {
          "name": "stdout",
          "output_type": "stream",
          "text": [
            "[81.0672514619883, 71.56432748538012, 52.046783625730995, 50.219298245614034, 19.883040935672515]\n",
            "[12492.0, 8412.0, 8332.0, 8252.0, 92.0]\n"
          ]
        }
      ],
      "source": [
        "from src.size_estimate import count_trainable_parameters\n",
        "from src.size_estimate import flop\n",
        "import torch.nn.utils.prune as prune\n",
        "from src.train_val_test_utils import test\n",
        "\n",
        "def structured_pruning(model, threshold, n=1):\n",
        "  m = copy.deepcopy(model)\n",
        "  for name, module in m.named_modules():\n",
        "    if isinstance(module, nn.Conv2d) or isinstance(module, nn.Linear):\n",
        "      prune.ln_structured(module, name='weight', n=n, amount=threshold, dim=0)\n",
        "      prune.remove(module, 'weight')\n",
        "  return m\n",
        "\n",
        "thresholds = [0.2, 0.4, 0.5, 0.6, 0.9]\n",
        "\n",
        "pruned_models = []\n",
        "params_pruned_models = []\n",
        "flops_pruned_models = []\n",
        "pruned_model_accs = []\n",
        "\n",
        "for thr in thresholds:\n",
        "  m = structured_pruning(model_fp32,thr,n=1) #L1 structured pruning\n",
        "  m.to(device)\n",
        "  flop_by_layers = flop(\n",
        "    model=m, \n",
        "    input_shape=(\n",
        "        1, \n",
        "        m.model_settings['fingerprint_width'], \n",
        "        m.model_settings['spectrogram_length']\n",
        "    ), \n",
        "    device=device)\n",
        "  pruned_models.append(m)\n",
        "  params_pruned_models.append(float(m.conv.weight.nelement() - torch.sum(m.conv.weight == 0) + m.conv.bias.nelement() + m.fc.weight.nelement() - torch.sum(m.fc.weight == 0) + m.fc.bias.nelement()))\n",
        "  #flops_pruned_models.append(sum([sum(val.values()) for val in flop_by_layers.values()]))\n",
        "\n",
        "for m in pruned_models:\n",
        "  acc = test(test_loader, m, device)\n",
        "  pruned_model_accs.append(acc)\n",
        "\n",
        "print(pruned_model_accs)\n",
        "#print(flops_pruned_models)\n",
        "print(params_pruned_models)"
      ]
    },
    {
      "cell_type": "code",
      "execution_count": 13,
      "metadata": {
        "colab": {
          "base_uri": "https://localhost:8080/",
          "height": 621
        },
        "id": "YITyX1Ufusr3",
        "outputId": "a0d0fbae-b433-4f07-a445-38afaba2db42"
      },
      "outputs": [
        {
          "data": {
            "image/png": "[encoded data removed]",
            "text/plain": [
              "<Figure size 720x720 with 1 Axes>"
            ]
          },
          "metadata": {
            "needs_background": "light"
          },
          "output_type": "display_data"
        }
      ],
      "source": [
        "import matplotlib.pyplot as plt\n",
        "fig = plt.figure(figsize=(10,10))\n",
        "colors = ['r', 'g', 'b', 'orange', 'y']\n",
        "plt.title('Accuracy vs Parameters for Pruned models with Structured Pruning without Finetuning')\n",
        "for idx,thr in enumerate(thresholds):\n",
        "  plt.scatter(params_pruned_models[idx],pruned_model_accs[idx],color=colors[idx],label=f'Threshold = {thr}')\n",
        "plt.xlabel('Parameters')\n",
        "plt.ylabel('Accuracy (%)')\n",
        "plt.legend()\n",
        "fig.savefig('/content/params_vs_acc_structured_pruned_models.png')\n",
        "plt.show()"
      ]
    },
    {
      "cell_type": "code",
      "execution_count": 14,
      "metadata": {
        "colab": {
          "base_uri": "https://localhost:8080/"
        },
        "id": "FAmCGiBLwCnm",
        "outputId": "38299e77-aca2-4a2a-eb30-c633444e96c4"
      },
      "outputs": [
        {
          "name": "stdout",
          "output_type": "stream",
          "text": [
            "Finetuning for model with threshold = 0.2\n",
            "Epoch: 1\n",
            "Val Acc Epoch 1 = 88.3%, Train loss = 0.465\n",
            "\n",
            "Valid epoch: 1\tAccuracy: 1171/1333 (87.85%)\n",
            "\n",
            "Epoch: 2\n",
            "Val Acc Epoch 2 = 87.77%, Train loss = 0.424\n",
            "\n",
            "Valid epoch: 2\tAccuracy: 1179/1333 (88.45%)\n",
            "\n",
            "Epoch: 3\n",
            "Val Acc Epoch 3 = 89.12%, Train loss = 0.401\n",
            "\n",
            "Valid epoch: 3\tAccuracy: 1186/1333 (88.97%)\n",
            "\n",
            "Epoch: 4\n",
            "Val Acc Epoch 4 = 87.85%, Train loss = 0.401\n",
            "\n",
            "Valid epoch: 4\tAccuracy: 1191/1333 (89.35%)\n",
            "\n",
            "Epoch: 5\n",
            "Val Acc Epoch 5 = 88.07%, Train loss = 0.412\n",
            "\n",
            "Valid epoch: 5\tAccuracy: 1173/1333 (88.00%)\n",
            "\n",
            "Epoch: 6\n",
            "Val Acc Epoch 6 = 88.22%, Train loss = 0.405\n",
            "\n",
            "Valid epoch: 6\tAccuracy: 1175/1333 (88.15%)\n",
            "\n",
            "Epoch: 7\n",
            "Val Acc Epoch 7 = 87.17%, Train loss = 0.401\n",
            "\n",
            "Valid epoch: 7\tAccuracy: 1163/1333 (87.25%)\n",
            "\n",
            "Epoch: 8\n",
            "Val Acc Epoch 8 = 89.05%, Train loss = 0.391\n",
            "\n",
            "Valid epoch: 8\tAccuracy: 1194/1333 (89.57%)\n",
            "\n",
            "Epoch: 9\n",
            "Val Acc Epoch 9 = 88.3%, Train loss = 0.391\n",
            "\n",
            "Valid epoch: 9\tAccuracy: 1176/1333 (88.22%)\n",
            "\n",
            "Epoch: 10\n",
            "Val Acc Epoch 10 = 87.7%, Train loss = 0.389\n",
            "\n",
            "Valid epoch: 10\tAccuracy: 1184/1333 (88.82%)\n",
            "\n",
            "Test Acc = 88.23%\n",
            "Finetuning for model with threshold = 0.4\n",
            "Epoch: 1\n",
            "Val Acc Epoch 1 = 88.0%, Train loss = 0.511\n",
            "\n",
            "Valid epoch: 1\tAccuracy: 1163/1333 (87.25%)\n",
            "\n",
            "Epoch: 2\n",
            "Val Acc Epoch 2 = 87.47%, Train loss = 0.438\n",
            "\n",
            "Valid epoch: 2\tAccuracy: 1160/1333 (87.02%)\n",
            "\n",
            "Epoch: 3\n",
            "Val Acc Epoch 3 = 87.47%, Train loss = 0.422\n",
            "\n",
            "Valid epoch: 3\tAccuracy: 1177/1333 (88.30%)\n",
            "\n",
            "Epoch: 4\n",
            "Val Acc Epoch 4 = 88.45%, Train loss = 0.417\n",
            "\n",
            "Valid epoch: 4\tAccuracy: 1170/1333 (87.77%)\n",
            "\n",
            "Epoch: 5\n",
            "Val Acc Epoch 5 = 88.9%, Train loss = 0.408\n",
            "\n",
            "Valid epoch: 5\tAccuracy: 1187/1333 (89.05%)\n",
            "\n",
            "Epoch: 6\n",
            "Val Acc Epoch 6 = 88.3%, Train loss = 0.411\n",
            "\n",
            "Valid epoch: 6\tAccuracy: 1182/1333 (88.67%)\n",
            "\n",
            "Epoch: 7\n",
            "Val Acc Epoch 7 = 88.37%, Train loss = 0.407\n",
            "\n",
            "Valid epoch: 7\tAccuracy: 1176/1333 (88.22%)\n",
            "\n",
            "Epoch: 8\n",
            "Val Acc Epoch 8 = 87.85%, Train loss = 0.412\n",
            "\n",
            "Valid epoch: 8\tAccuracy: 1169/1333 (87.70%)\n",
            "\n",
            "Epoch: 9\n",
            "Val Acc Epoch 9 = 87.92%, Train loss = 0.397\n",
            "\n",
            "Valid epoch: 9\tAccuracy: 1174/1333 (88.07%)\n",
            "\n",
            "Epoch: 10\n",
            "Val Acc Epoch 10 = 88.9%, Train loss = 0.406\n",
            "\n",
            "Valid epoch: 10\tAccuracy: 1182/1333 (88.67%)\n",
            "\n",
            "Test Acc = 88.01%\n",
            "Finetuning for model with threshold = 0.5\n",
            "Epoch: 1\n",
            "Val Acc Epoch 1 = 81.85%, Train loss = 0.664\n",
            "\n",
            "Valid epoch: 1\tAccuracy: 1088/1333 (81.62%)\n",
            "\n",
            "Epoch: 2\n",
            "Val Acc Epoch 2 = 84.32%, Train loss = 0.557\n",
            "\n",
            "Valid epoch: 2\tAccuracy: 1095/1333 (82.15%)\n",
            "\n",
            "Epoch: 3\n",
            "Val Acc Epoch 3 = 83.72%, Train loss = 0.526\n",
            "\n",
            "Valid epoch: 3\tAccuracy: 1138/1333 (85.37%)\n",
            "\n",
            "Epoch: 4\n",
            "Val Acc Epoch 4 = 84.62%, Train loss = 0.499\n",
            "\n",
            "Valid epoch: 4\tAccuracy: 1128/1333 (84.62%)\n",
            "\n",
            "Epoch: 5\n",
            "Val Acc Epoch 5 = 85.67%, Train loss = 0.481\n",
            "\n",
            "Valid epoch: 5\tAccuracy: 1142/1333 (85.67%)\n",
            "\n",
            "Epoch: 6\n",
            "Val Acc Epoch 6 = 86.35%, Train loss = 0.477\n",
            "\n",
            "Valid epoch: 6\tAccuracy: 1157/1333 (86.80%)\n",
            "\n",
            "Epoch: 7\n",
            "Val Acc Epoch 7 = 87.47%, Train loss = 0.477\n",
            "\n",
            "Valid epoch: 7\tAccuracy: 1153/1333 (86.50%)\n",
            "\n",
            "Epoch: 8\n",
            "Val Acc Epoch 8 = 87.17%, Train loss = 0.473\n",
            "\n",
            "Valid epoch: 8\tAccuracy: 1161/1333 (87.10%)\n",
            "\n",
            "Epoch: 9\n",
            "Val Acc Epoch 9 = 87.55%, Train loss = 0.452\n",
            "\n",
            "Valid epoch: 9\tAccuracy: 1173/1333 (88.00%)\n",
            "\n",
            "Epoch: 10\n",
            "Val Acc Epoch 10 = 85.82%, Train loss = 0.443\n",
            "\n",
            "Valid epoch: 10\tAccuracy: 1157/1333 (86.80%)\n",
            "\n",
            "Test Acc = 86.62%\n",
            "Finetuning for model with threshold = 0.6\n",
            "Epoch: 1\n",
            "Val Acc Epoch 1 = 78.02%, Train loss = 0.764\n",
            "\n",
            "Valid epoch: 1\tAccuracy: 1040/1333 (78.02%)\n",
            "\n",
            "Epoch: 2\n",
            "Val Acc Epoch 2 = 80.42%, Train loss = 0.622\n",
            "\n",
            "Valid epoch: 2\tAccuracy: 1079/1333 (80.95%)\n",
            "\n",
            "Epoch: 3\n",
            "Val Acc Epoch 3 = 81.1%, Train loss = 0.586\n",
            "\n",
            "Valid epoch: 3\tAccuracy: 1094/1333 (82.07%)\n",
            "\n",
            "Epoch: 4\n",
            "Val Acc Epoch 4 = 84.47%, Train loss = 0.564\n",
            "\n",
            "Valid epoch: 4\tAccuracy: 1130/1333 (84.77%)\n",
            "\n",
            "Epoch: 5\n",
            "Val Acc Epoch 5 = 83.5%, Train loss = 0.539\n",
            "\n",
            "Valid epoch: 5\tAccuracy: 1114/1333 (83.57%)\n",
            "\n",
            "Epoch: 6\n",
            "Val Acc Epoch 6 = 84.85%, Train loss = 0.53\n",
            "\n",
            "Valid epoch: 6\tAccuracy: 1136/1333 (85.22%)\n",
            "\n",
            "Epoch: 7\n",
            "Val Acc Epoch 7 = 84.77%, Train loss = 0.509\n",
            "\n",
            "Valid epoch: 7\tAccuracy: 1125/1333 (84.40%)\n",
            "\n",
            "Epoch: 8\n",
            "Val Acc Epoch 8 = 85.67%, Train loss = 0.488\n",
            "\n",
            "Valid epoch: 8\tAccuracy: 1138/1333 (85.37%)\n",
            "\n",
            "Epoch: 9\n",
            "Val Acc Epoch 9 = 85.22%, Train loss = 0.498\n",
            "\n",
            "Valid epoch: 9\tAccuracy: 1148/1333 (86.12%)\n",
            "\n",
            "Epoch: 10\n",
            "Val Acc Epoch 10 = 85.0%, Train loss = 0.483\n",
            "\n",
            "Valid epoch: 10\tAccuracy: 1153/1333 (86.50%)\n",
            "\n",
            "Test Acc = 84.94%\n",
            "Finetuning for model with threshold = 0.9\n",
            "Epoch: 1\n",
            "Val Acc Epoch 1 = 80.95%, Train loss = 0.818\n",
            "\n",
            "Valid epoch: 1\tAccuracy: 1078/1333 (80.87%)\n",
            "\n",
            "Epoch: 2\n",
            "Val Acc Epoch 2 = 83.42%, Train loss = 0.589\n",
            "\n",
            "Valid epoch: 2\tAccuracy: 1105/1333 (82.90%)\n",
            "\n",
            "Epoch: 3\n",
            "Val Acc Epoch 3 = 84.4%, Train loss = 0.562\n",
            "\n",
            "Valid epoch: 3\tAccuracy: 1127/1333 (84.55%)\n",
            "\n",
            "Epoch: 4\n",
            "Val Acc Epoch 4 = 85.45%, Train loss = 0.527\n",
            "\n",
            "Valid epoch: 4\tAccuracy: 1144/1333 (85.82%)\n",
            "\n",
            "Epoch: 5\n",
            "Val Acc Epoch 5 = 85.3%, Train loss = 0.522\n",
            "\n",
            "Valid epoch: 5\tAccuracy: 1138/1333 (85.37%)\n",
            "\n",
            "Epoch: 6\n",
            "Val Acc Epoch 6 = 85.3%, Train loss = 0.524\n",
            "\n",
            "Valid epoch: 6\tAccuracy: 1139/1333 (85.45%)\n",
            "\n",
            "Epoch: 7\n",
            "Val Acc Epoch 7 = 86.27%, Train loss = 0.518\n",
            "\n",
            "Valid epoch: 7\tAccuracy: 1131/1333 (84.85%)\n",
            "\n",
            "Epoch: 8\n",
            "Val Acc Epoch 8 = 85.3%, Train loss = 0.504\n",
            "\n",
            "Valid epoch: 8\tAccuracy: 1135/1333 (85.15%)\n",
            "\n",
            "Epoch: 9\n",
            "Val Acc Epoch 9 = 85.75%, Train loss = 0.498\n",
            "\n",
            "Valid epoch: 9\tAccuracy: 1150/1333 (86.27%)\n",
            "\n",
            "Epoch: 10\n",
            "Val Acc Epoch 10 = 85.9%, Train loss = 0.517\n",
            "\n",
            "Valid epoch: 10\tAccuracy: 1136/1333 (85.22%)\n",
            "\n",
            "Test Acc = 85.53%\n",
            "[88.23099415204679, 88.01169590643275, 86.62280701754386, 84.94152046783626, 85.52631578947368]\n"
          ]
        }
      ],
      "source": [
        "# Finetuning the pruned models\n",
        "from src.train_val_test_utils import create_optimizer\n",
        "from src.train_val_test_utils import train, test\n",
        "import os\n",
        "\n",
        "pruned_finetuned_test_acc = []\n",
        "num_batches = len(train_loader)\n",
        "for idx,model in enumerate(pruned_models):\n",
        "  model.train()\n",
        "  optimizer_fp32 = create_optimizer(model=model, learning_rate=0.001)\n",
        "  checkpoint_path = os.path.join(TORCH_DIR, f'pruned_finetuning_thresh_{thresholds[idx]}.pt')\n",
        "  print(f'Finetuning for model with threshold = {thresholds[idx]}')\n",
        "  last_valacc = 0\n",
        "  for ep in range(1,11):\n",
        "    print(f'Epoch: {ep}')\n",
        "    train_iters = len(train_loader)\n",
        "    train(model, data_loaders, optimizer_fp32, ep, device)\n",
        "    val_acc = test(valid_loader, model, device, epoch=ep, loader_type='Valid', verbose=True)\n",
        "    if val_acc > last_valacc:\n",
        "      last_valacc = val_acc\n",
        "      torch.save({'epoch': ep,\n",
        "                  'model_state_dict': model.state_dict(),\n",
        "                  'optimizer_state_dict': optimizer_fp32.state_dict()\n",
        "                }, checkpoint_path)\n",
        "  test_acc = test(test_loader, model, device, epoch=None, loader_type='Test')\n",
        "  print(f'Test Acc = {round(test_acc,2)}%')\n",
        "  pruned_finetuned_test_acc.append(test_acc)\n",
        "\n",
        "print(pruned_finetuned_test_acc)"
      ]
    },
    {
      "cell_type": "code",
      "execution_count": 15,
      "metadata": {
        "colab": {
          "base_uri": "https://localhost:8080/",
          "height": 621
        },
        "id": "yi9irZHXIncM",
        "outputId": "3d8f7aef-2a13-457b-93d1-a98b3558030e"
      },
      "outputs": [
        {
          "data": {
            "image/png": "[encoded data removed]",
            "text/plain": [
              "<Figure size 720x720 with 1 Axes>"
            ]
          },
          "metadata": {
            "needs_background": "light"
          },
          "output_type": "display_data"
        }
      ],
      "source": [
        "import matplotlib.pyplot as plt\n",
        "fig = plt.figure(figsize=(10,10))\n",
        "colors = ['r', 'g', 'b', 'orange', 'y']\n",
        "plt.title('Accuracy vs Parameters for Pruned models with Structured Pruning with Finetuning')\n",
        "for idx,thr in enumerate(thresholds):\n",
        "  plt.scatter(params_pruned_models[idx],pruned_finetuned_test_acc[idx],color=colors[idx],label=f'Threshold = {thr}')\n",
        "plt.xlabel('Parameters')\n",
        "plt.ylabel('Accuracy (%)')\n",
        "plt.legend()\n",
        "fig.savefig('/content/params_vs_acc_structured_pruned_finetuned_models.png')\n",
        "plt.show()"
      ]
    },
    {
      "cell_type": "markdown",
      "metadata": {
        "id": "Tv18oNx5BE56"
      },
      "source": [
        "## 6.3 Unstructured Pruning\n",
        "\n",
        "In this section, you will perform unstructured pruning on the TinyConv model and explore its effect on performance.\n",
        "\n",
        "Following link will be helpful:\n",
        "1. [torch.nn.utils.prune.l1_unstructured](https://pytorch.org/docs/stable/generated/torch.nn.utils.prune.l1_unstructured.html?highlight=unstructured#torch.nn.utils.prune.l1_unstructured)\n",
        "\n",
        "2. [torch.nn.utils.prune.random_unstructured](https://pytorch.org/docs/stable/generated/torch.nn.utils.prune.random_unstructured.html?highlight=unstructured#torch.nn.utils.prune.random_unstructured)\n",
        "\n",
        "2. [Torch pruning tutorial](https://pytorch.org/tutorials/intermediate/pruning_tutorial.html?highlight=prune)"
      ]
    },
    {
      "cell_type": "code",
      "execution_count": 16,
      "metadata": {
        "colab": {
          "base_uri": "https://localhost:8080/"
        },
        "id": "8G-EiW4w-xgh",
        "outputId": "845264ad-e38e-436c-f9d5-fb64f6182a95"
      },
      "outputs": [
        {
          "name": "stdout",
          "output_type": "stream",
          "text": [
            "[79.82456140350877, 72.22222222222223, 52.33918128654971, 49.41520467836257, 19.883040935672515]\n",
            "[12488.0, 8408.0, 8328.0, 8248.0, 88.0]\n"
          ]
        }
      ],
      "source": [
        "def unstructured_pruning(model, threshold):\n",
        "  m = copy.deepcopy(model)\n",
        "  for name, module in m.named_modules():\n",
        "    if isinstance(module, nn.Conv2d) or isinstance(module, nn.Linear):\n",
        "      prune.l1_unstructured(module, amount=threshold)\n",
        "      prune.remove(module, 'weight')\n",
        "  return m\n",
        "\n",
        "thresholds = [0.2, 0.4, 0.5, 0.6, 0.9]\n",
        "\n",
        "unstructured_pruned_models = []\n",
        "unstructured_params_pruned_models = []\n",
        "unstructured_pruned_model_accs = []\n",
        "\n",
        "for thr in thresholds:\n",
        "  m = structured_pruning(model_fp32_orig,thr) #L1 unstructured pruning\n",
        "  m.to(device)\n",
        "  unstructured_pruned_models.append(m)\n",
        "  unstructured_params_pruned_models.append(float(m.conv.weight.nelement() - torch.sum(m.conv.weight == 0) + m.conv.bias.nelement() + m.fc.weight.nelement() - torch.sum(m.fc.weight == 0)))\n",
        "\n",
        "for m in unstructured_pruned_models:\n",
        "  acc = test(test_loader, m, device)\n",
        "  unstructured_pruned_model_accs.append(acc)\n",
        "\n",
        "print(unstructured_pruned_model_accs)\n",
        "print(unstructured_params_pruned_models)"
      ]
    },
    {
      "cell_type": "code",
      "execution_count": 17,
      "metadata": {
        "colab": {
          "base_uri": "https://localhost:8080/",
          "height": 621
        },
        "id": "tkiApqijAeil",
        "outputId": "5d3c852e-3ca5-4c3b-91a6-abfd823a71c8"
      },
      "outputs": [
        {
          "data": {
            "image/png": "[encoded data removed]",
            "text/plain": [
              "<Figure size 720x720 with 1 Axes>"
            ]
          },
          "metadata": {
            "needs_background": "light"
          },
          "output_type": "display_data"
        }
      ],
      "source": [
        "fig = plt.figure(figsize=(10,10))\n",
        "colors = ['r', 'g', 'b', 'orange', 'y']\n",
        "plt.title('Accuracy vs Parameters for Pruned models with Unstructured Pruning without Finetuning')\n",
        "for idx,thr in enumerate(thresholds):\n",
        "  plt.scatter(unstructured_params_pruned_models[idx],unstructured_pruned_model_accs[idx],color=colors[idx],label=f'Threshold = {thr}')\n",
        "plt.xlabel('Parameters')\n",
        "plt.ylabel('Accuracy (%)')\n",
        "plt.legend()\n",
        "fig.savefig('/content/params_vs_acc_unstructured_pruned_models.png')\n",
        "plt.show()"
      ]
    },
    {
      "cell_type": "code",
      "execution_count": 18,
      "metadata": {
        "colab": {
          "base_uri": "https://localhost:8080/"
        },
        "id": "B-luy4T-EU0f",
        "outputId": "38269dba-ff2f-403d-cebf-fbd20123a21d"
      },
      "outputs": [
        {
          "name": "stdout",
          "output_type": "stream",
          "text": [
            "Finetuning for model with threshold = 0.2\n",
            "Epoch: 1\n",
            "Val Acc Epoch 1 = 87.77%, Train loss = 0.449\n",
            "\n",
            "Valid epoch: 1\tAccuracy: 1172/1333 (87.92%)\n",
            "\n",
            "Epoch: 2\n",
            "Val Acc Epoch 2 = 88.37%, Train loss = 0.413\n",
            "\n",
            "Valid epoch: 2\tAccuracy: 1171/1333 (87.85%)\n",
            "\n",
            "Epoch: 3\n",
            "Val Acc Epoch 3 = 87.55%, Train loss = 0.406\n",
            "\n",
            "Valid epoch: 3\tAccuracy: 1175/1333 (88.15%)\n",
            "\n",
            "Epoch: 4\n",
            "Val Acc Epoch 4 = 87.62%, Train loss = 0.403\n",
            "\n",
            "Valid epoch: 4\tAccuracy: 1176/1333 (88.22%)\n",
            "\n",
            "Epoch: 5\n",
            "Val Acc Epoch 5 = 88.07%, Train loss = 0.41\n",
            "\n",
            "Valid epoch: 5\tAccuracy: 1177/1333 (88.30%)\n",
            "\n",
            "Epoch: 6\n",
            "Val Acc Epoch 6 = 89.12%, Train loss = 0.402\n",
            "\n",
            "Valid epoch: 6\tAccuracy: 1184/1333 (88.82%)\n",
            "\n",
            "Epoch: 7\n",
            "Val Acc Epoch 7 = 88.9%, Train loss = 0.387\n",
            "\n",
            "Valid epoch: 7\tAccuracy: 1182/1333 (88.67%)\n",
            "\n",
            "Epoch: 8\n",
            "Val Acc Epoch 8 = 88.22%, Train loss = 0.392\n",
            "\n",
            "Valid epoch: 8\tAccuracy: 1185/1333 (88.90%)\n",
            "\n",
            "Epoch: 9\n",
            "Val Acc Epoch 9 = 88.52%, Train loss = 0.39\n",
            "\n",
            "Valid epoch: 9\tAccuracy: 1175/1333 (88.15%)\n",
            "\n",
            "Epoch: 10\n",
            "Val Acc Epoch 10 = 89.05%, Train loss = 0.388\n",
            "\n",
            "Valid epoch: 10\tAccuracy: 1193/1333 (89.50%)\n",
            "\n",
            "Test Acc = 87.13%\n",
            "Finetuning for model with threshold = 0.4\n",
            "Epoch: 1\n",
            "Val Acc Epoch 1 = 87.32%, Train loss = 0.51\n",
            "\n",
            "Valid epoch: 1\tAccuracy: 1173/1333 (88.00%)\n",
            "\n",
            "Epoch: 2\n",
            "Val Acc Epoch 2 = 86.95%, Train loss = 0.434\n",
            "\n",
            "Valid epoch: 2\tAccuracy: 1177/1333 (88.30%)\n",
            "\n",
            "Epoch: 3\n",
            "Val Acc Epoch 3 = 88.15%, Train loss = 0.408\n",
            "\n",
            "Valid epoch: 3\tAccuracy: 1181/1333 (88.60%)\n",
            "\n",
            "Epoch: 4\n",
            "Val Acc Epoch 4 = 88.3%, Train loss = 0.423\n",
            "\n",
            "Valid epoch: 4\tAccuracy: 1170/1333 (87.77%)\n",
            "\n",
            "Epoch: 5\n",
            "Val Acc Epoch 5 = 87.62%, Train loss = 0.423\n",
            "\n",
            "Valid epoch: 5\tAccuracy: 1157/1333 (86.80%)\n",
            "\n",
            "Epoch: 6\n",
            "Val Acc Epoch 6 = 87.92%, Train loss = 0.414\n",
            "\n",
            "Valid epoch: 6\tAccuracy: 1176/1333 (88.22%)\n",
            "\n",
            "Epoch: 7\n",
            "Val Acc Epoch 7 = 88.07%, Train loss = 0.416\n",
            "\n",
            "Valid epoch: 7\tAccuracy: 1165/1333 (87.40%)\n",
            "\n",
            "Epoch: 8\n",
            "Val Acc Epoch 8 = 88.3%, Train loss = 0.407\n",
            "\n",
            "Valid epoch: 8\tAccuracy: 1160/1333 (87.02%)\n",
            "\n",
            "Epoch: 9\n",
            "Val Acc Epoch 9 = 88.75%, Train loss = 0.401\n",
            "\n",
            "Valid epoch: 9\tAccuracy: 1177/1333 (88.30%)\n",
            "\n",
            "Epoch: 10\n",
            "Val Acc Epoch 10 = 89.2%, Train loss = 0.409\n",
            "\n",
            "Valid epoch: 10\tAccuracy: 1175/1333 (88.15%)\n",
            "\n",
            "Test Acc = 87.06%\n",
            "Finetuning for model with threshold = 0.5\n",
            "Epoch: 1\n",
            "Val Acc Epoch 1 = 82.45%, Train loss = 0.67\n",
            "\n",
            "Valid epoch: 1\tAccuracy: 1088/1333 (81.62%)\n",
            "\n",
            "Epoch: 2\n",
            "Val Acc Epoch 2 = 84.32%, Train loss = 0.549\n",
            "\n",
            "Valid epoch: 2\tAccuracy: 1120/1333 (84.02%)\n",
            "\n",
            "Epoch: 3\n",
            "Val Acc Epoch 3 = 85.6%, Train loss = 0.511\n",
            "\n",
            "Valid epoch: 3\tAccuracy: 1131/1333 (84.85%)\n",
            "\n",
            "Epoch: 4\n",
            "Val Acc Epoch 4 = 85.97%, Train loss = 0.509\n",
            "\n",
            "Valid epoch: 4\tAccuracy: 1138/1333 (85.37%)\n",
            "\n",
            "Epoch: 5\n",
            "Val Acc Epoch 5 = 86.27%, Train loss = 0.494\n",
            "\n",
            "Valid epoch: 5\tAccuracy: 1139/1333 (85.45%)\n",
            "\n",
            "Epoch: 6\n",
            "Val Acc Epoch 6 = 86.05%, Train loss = 0.482\n",
            "\n",
            "Valid epoch: 6\tAccuracy: 1158/1333 (86.87%)\n",
            "\n",
            "Epoch: 7\n",
            "Val Acc Epoch 7 = 86.57%, Train loss = 0.471\n",
            "\n",
            "Valid epoch: 7\tAccuracy: 1147/1333 (86.05%)\n",
            "\n",
            "Epoch: 8\n",
            "Val Acc Epoch 8 = 86.65%, Train loss = 0.456\n",
            "\n",
            "Valid epoch: 8\tAccuracy: 1167/1333 (87.55%)\n",
            "\n",
            "Epoch: 9\n",
            "Val Acc Epoch 9 = 87.1%, Train loss = 0.445\n",
            "\n",
            "Valid epoch: 9\tAccuracy: 1163/1333 (87.25%)\n",
            "\n",
            "Epoch: 10\n",
            "Val Acc Epoch 10 = 87.92%, Train loss = 0.441\n",
            "\n",
            "Valid epoch: 10\tAccuracy: 1169/1333 (87.70%)\n",
            "\n",
            "Test Acc = 85.75%\n",
            "Finetuning for model with threshold = 0.6\n",
            "Epoch: 1\n",
            "Val Acc Epoch 1 = 78.62%, Train loss = 0.767\n",
            "\n",
            "Valid epoch: 1\tAccuracy: 1044/1333 (78.32%)\n",
            "\n",
            "Epoch: 2\n",
            "Val Acc Epoch 2 = 80.8%, Train loss = 0.616\n",
            "\n",
            "Valid epoch: 2\tAccuracy: 1102/1333 (82.67%)\n",
            "\n",
            "Epoch: 3\n",
            "Val Acc Epoch 3 = 82.15%, Train loss = 0.567\n",
            "\n",
            "Valid epoch: 3\tAccuracy: 1100/1333 (82.52%)\n",
            "\n",
            "Epoch: 4\n",
            "Val Acc Epoch 4 = 83.27%, Train loss = 0.553\n",
            "\n",
            "Valid epoch: 4\tAccuracy: 1114/1333 (83.57%)\n",
            "\n",
            "Epoch: 5\n",
            "Val Acc Epoch 5 = 85.3%, Train loss = 0.533\n",
            "\n",
            "Valid epoch: 5\tAccuracy: 1141/1333 (85.60%)\n",
            "\n",
            "Epoch: 6\n",
            "Val Acc Epoch 6 = 85.97%, Train loss = 0.526\n",
            "\n",
            "Valid epoch: 6\tAccuracy: 1128/1333 (84.62%)\n",
            "\n",
            "Epoch: 7\n",
            "Val Acc Epoch 7 = 84.4%, Train loss = 0.506\n",
            "\n",
            "Valid epoch: 7\tAccuracy: 1152/1333 (86.42%)\n",
            "\n",
            "Epoch: 8\n",
            "Val Acc Epoch 8 = 86.2%, Train loss = 0.505\n",
            "\n",
            "Valid epoch: 8\tAccuracy: 1157/1333 (86.80%)\n",
            "\n",
            "Epoch: 9\n",
            "Val Acc Epoch 9 = 85.82%, Train loss = 0.495\n",
            "\n",
            "Valid epoch: 9\tAccuracy: 1154/1333 (86.57%)\n",
            "\n",
            "Epoch: 10\n",
            "Val Acc Epoch 10 = 86.42%, Train loss = 0.486\n",
            "\n",
            "Valid epoch: 10\tAccuracy: 1147/1333 (86.05%)\n",
            "\n",
            "Test Acc = 85.31%\n",
            "Finetuning for model with threshold = 0.9\n",
            "Epoch: 1\n",
            "Val Acc Epoch 1 = 75.39%, Train loss = 0.985\n",
            "\n",
            "Valid epoch: 1\tAccuracy: 1027/1333 (77.04%)\n",
            "\n",
            "Epoch: 2\n",
            "Val Acc Epoch 2 = 78.39%, Train loss = 0.777\n",
            "\n",
            "Valid epoch: 2\tAccuracy: 1057/1333 (79.29%)\n",
            "\n",
            "Epoch: 3\n",
            "Val Acc Epoch 3 = 78.62%, Train loss = 0.74\n",
            "\n",
            "Valid epoch: 3\tAccuracy: 1069/1333 (80.20%)\n",
            "\n",
            "Epoch: 4\n",
            "Val Acc Epoch 4 = 78.69%, Train loss = 0.703\n",
            "\n",
            "Valid epoch: 4\tAccuracy: 1048/1333 (78.62%)\n",
            "\n",
            "Epoch: 5\n",
            "Val Acc Epoch 5 = 78.69%, Train loss = 0.716\n",
            "\n",
            "Valid epoch: 5\tAccuracy: 1065/1333 (79.89%)\n",
            "\n",
            "Epoch: 6\n",
            "Val Acc Epoch 6 = 78.09%, Train loss = 0.701\n",
            "\n",
            "Valid epoch: 6\tAccuracy: 1069/1333 (80.20%)\n",
            "\n",
            "Epoch: 7\n",
            "Val Acc Epoch 7 = 79.22%, Train loss = 0.696\n",
            "\n",
            "Valid epoch: 7\tAccuracy: 1057/1333 (79.29%)\n",
            "\n",
            "Epoch: 8\n",
            "Val Acc Epoch 8 = 80.57%, Train loss = 0.684\n",
            "\n",
            "Valid epoch: 8\tAccuracy: 1080/1333 (81.02%)\n",
            "\n",
            "Epoch: 9\n",
            "Val Acc Epoch 9 = 79.44%, Train loss = 0.68\n",
            "\n",
            "Valid epoch: 9\tAccuracy: 1073/1333 (80.50%)\n",
            "\n",
            "Epoch: 10\n",
            "Val Acc Epoch 10 = 80.57%, Train loss = 0.685\n",
            "\n",
            "Valid epoch: 10\tAccuracy: 1052/1333 (78.92%)\n",
            "\n",
            "Test Acc = 79.24%\n",
            "[87.13450292397661, 87.06140350877193, 85.74561403508773, 85.30701754385964, 79.23976608187135]\n"
          ]
        }
      ],
      "source": [
        "# Finetuning the pruned models\n",
        "from src.train_val_test_utils import create_optimizer\n",
        "from src.train_val_test_utils import train, test\n",
        "import os\n",
        "\n",
        "unstr_pruned_finetuned_test_acc = []\n",
        "num_batches = len(train_loader)\n",
        "for idx,model in enumerate(unstructured_pruned_models):\n",
        "  model.train()\n",
        "  optimizer_fp32 = create_optimizer(model=model, learning_rate=0.001)\n",
        "  checkpoint_path = os.path.join(TORCH_DIR, f'unstructured_pruned_finetuning_thresh_{thresholds[idx]}.pt')\n",
        "  print(f'Finetuning for model with threshold = {thresholds[idx]}')\n",
        "  last_valacc = 0\n",
        "  for ep in range(1,11):\n",
        "    print(f'Epoch: {ep}')\n",
        "    train_iters = len(train_loader)\n",
        "    train(model, data_loaders, optimizer_fp32, ep, device)\n",
        "    val_acc = test(valid_loader, model, device, epoch=ep, loader_type='Valid', verbose=True)\n",
        "    if val_acc > last_valacc:\n",
        "      last_valacc = val_acc\n",
        "      torch.save({'epoch': ep,\n",
        "                  'model_state_dict': model.state_dict(),\n",
        "                  'optimizer_state_dict': optimizer_fp32.state_dict()\n",
        "                }, checkpoint_path)\n",
        "  test_acc = test(test_loader, model, device, epoch=None, loader_type='Test')\n",
        "  print(f'Test Acc = {round(test_acc,2)}%')\n",
        "  unstr_pruned_finetuned_test_acc.append(test_acc)\n",
        "\n",
        "print(unstr_pruned_finetuned_test_acc)"
      ]
    },
    {
      "cell_type": "code",
      "execution_count": 19,
      "metadata": {
        "colab": {
          "base_uri": "https://localhost:8080/",
          "height": 621
        },
        "id": "tDL-ngBsJnN6",
        "outputId": "0b85a617-14a6-43ff-fa92-c9abf493918f"
      },
      "outputs": [
        {
          "data": {
            "image/png": "[encoded data removed]",
            "text/plain": [
              "<Figure size 720x720 with 1 Axes>"
            ]
          },
          "metadata": {
            "needs_background": "light"
          },
          "output_type": "display_data"
        }
      ],
      "source": [
        "fig = plt.figure(figsize=(10,10))\n",
        "colors = ['r', 'g', 'b', 'orange', 'y']\n",
        "plt.title('Accuracy vs Parameters for Pruned models with Unstructured Pruning with Finetuning')\n",
        "for idx,thr in enumerate(thresholds):\n",
        "  plt.scatter(unstructured_params_pruned_models[idx],unstr_pruned_finetuned_test_acc[idx],color=colors[idx],label=f'Threshold = {thr}')\n",
        "plt.xlabel('Parameters')\n",
        "plt.ylabel('Accuracy (%)')\n",
        "plt.legend()\n",
        "fig.savefig('/content/params_vs_acc_unstructured_pruned_models_with_finetuning.png')\n",
        "plt.show()"
      ]
    },
    {
      "cell_type": "code",
      "execution_count": 31,
      "metadata": {
        "colab": {
          "base_uri": "https://localhost:8080/"
        },
        "id": "mhzm-zKeUqOn",
        "outputId": "8bd69e8e-db84-42a3-e4b3-b8c8ba4a163d"
      },
      "outputs": [
        {
          "data": {
            "text/plain": [
              "TinyConvPruned(\n",
              "  (conv_reshape): Reshape(output_shape=(-1, 1, 49, 40))\n",
              "  (conv): Conv2d(1, 1, kernel_size=(10, 8), stride=(2, 2), padding=(5, 3))\n",
              "  (relu): ReLU()\n",
              "  (fc_reshape): Reshape(output_shape=(-1, 500))\n",
              "  (fc): Linear(in_features=500, out_features=4, bias=True)\n",
              "  (softmax): Softmax(dim=1)\n",
              ")"
            ]
          },
          "execution_count": 31,
          "metadata": {},
          "output_type": "execute_result"
        }
      ],
      "source": [
        "import torch\n",
        "import torch.nn as nn\n",
        "import torch.nn.functional as F\n",
        "\n",
        "\n",
        "# Define tiny_conv model\n",
        "class Reshape(nn.Module):\n",
        "    def __init__(self, output_shape):\n",
        "        super(Reshape, self).__init__()\n",
        "        self.output_shape = output_shape\n",
        "\n",
        "    def __repr__(self):\n",
        "        s = super().__repr__()\n",
        "        s = f'{s[:-1]}output_shape={tuple(self.output_shape)})'\n",
        "        return s\n",
        "\n",
        "    def forward(self, x):\n",
        "        reshaped_input = torch.reshape(x, self.output_shape)\n",
        "        return reshaped_input\n",
        "\n",
        "\n",
        "class TinyConvPruned(nn.Module):\n",
        "    def __init__(self, model_settings, n_input=1, n_output=4, num_channels=6, fc_feats=4000):\n",
        "        super(TinyConvPruned, self).__init__()\n",
        "        first_filter_width = 8\n",
        "        first_filter_height = 10\n",
        "        first_filter_count = num_channels\n",
        "        first_conv_stride_x = 2\n",
        "        first_conv_stride_y = 2\n",
        "        self.model_settings = model_settings\n",
        "\n",
        "        input_frequency_size = self.model_settings['fingerprint_width']\n",
        "        input_time_size = self.model_settings['spectrogram_length']\n",
        "        W = input_frequency_size\n",
        "        H = input_time_size\n",
        "        C = 1\n",
        "\n",
        "        # Reshape layer\n",
        "        self.conv_reshape = Reshape([-1, C, H, W])\n",
        "\n",
        "        # Conv2d layer\n",
        "        self.conv = nn.Conv2d(in_channels=n_input,\n",
        "                              out_channels=first_filter_count,\n",
        "                              kernel_size=\n",
        "                              (first_filter_height, first_filter_width),\n",
        "                              stride=(first_conv_stride_y, first_conv_stride_x),\n",
        "                              padding=(5, 3))\n",
        "\n",
        "        # Relu layer\n",
        "        self.relu = nn.ReLU()\n",
        "\n",
        "        # Dropout layer\n",
        "        #self.dropout = nn.Dropout()\n",
        "\n",
        "        # Reshape layer\n",
        "        fc_in_features = fc_feats\n",
        "        self.fc_reshape = Reshape([-1, fc_in_features])\n",
        "\n",
        "        # Fully Connected layer\n",
        "        self.fc = nn.Linear(in_features=fc_in_features, out_features=n_output)\n",
        "\n",
        "        # Softmax\n",
        "        self.softmax = torch.nn.Softmax(dim=1)\n",
        "\n",
        "    def forward(self, x):\n",
        "        # Reshape input x\n",
        "        x = self.conv_reshape(x)\n",
        "\n",
        "        # Pass x through conv2d layer\n",
        "        x_conv = self.conv(x)\n",
        "\n",
        "        # Pass x through relu layer\n",
        "        x_relu = self.relu(x_conv)\n",
        "\n",
        "        # Pass x through dropout layer during tesing\n",
        "        #if self.training:\n",
        "        #    x_dropout = self.dropout(x_relu)\n",
        "        #else:\n",
        "        #    x_dropout = x_relu\n",
        "\n",
        "        # Reshape x\n",
        "        x_reshaped = self.fc_reshape(x_relu)\n",
        "        #print(x_reshaped.shape)\n",
        "        # Pass x through fully connected layer\n",
        "        x_fc = self.fc(x_reshaped)\n",
        "\n",
        "        # Pass x through softmax layer\n",
        "        if self.training:\n",
        "            y = F.log_softmax(x_fc,-1)\n",
        "        else:\n",
        "            y = self.softmax(x_fc)\n",
        "\n",
        "        return y\n",
        "\n",
        "model_pruned_thresh_0_2 = TinyConvPruned(model_settings=audio_processor.model_settings,n_input=1, n_output=audio_processor.num_labels, num_channels=6, fc_feats=3000)\n",
        "model_pruned_thresh_0_4 = TinyConvPruned(model_settings=audio_processor.model_settings,n_input=1, n_output=audio_processor.num_labels, num_channels=5, fc_feats=2500)\n",
        "model_pruned_thresh_0_5 = TinyConvPruned(model_settings=audio_processor.model_settings,n_input=1, n_output=audio_processor.num_labels, num_channels=4, fc_feats=2000)\n",
        "model_pruned_thresh_0_6 = TinyConvPruned(model_settings=audio_processor.model_settings,n_input=1, n_output=audio_processor.num_labels, num_channels=3, fc_feats=1500)\n",
        "model_pruned_thresh_0_9 = TinyConvPruned(model_settings=audio_processor.model_settings,n_input=1, n_output=audio_processor.num_labels, num_channels=1, fc_feats=500)\n",
        "model_pruned_thresh_0_2.to(device)\n",
        "model_pruned_thresh_0_4.to(device)\n",
        "model_pruned_thresh_0_5.to(device)\n",
        "model_pruned_thresh_0_6.to(device)\n",
        "model_pruned_thresh_0_9.to(device)"
      ]
    },
    {
      "cell_type": "code",
      "execution_count": 32,
      "metadata": {
        "id": "Y6vC6nq3d059"
      },
      "outputs": [],
      "source": [
        "from src.size_estimate import flop\n",
        "flops_struct_pruned_models = []\n",
        "flop_by_layers = flop(\n",
        "    model=model_pruned_thresh_0_2, \n",
        "    input_shape=(\n",
        "        1, \n",
        "        model_pruned_thresh_0_2.model_settings['fingerprint_width'], \n",
        "        model_pruned_thresh_0_2.model_settings['spectrogram_length']\n",
        "    ), \n",
        "    device=device)\n",
        "flops_struct_pruned_models.append(sum([sum(val.values()) for val in flop_by_layers.values()]))"
      ]
    },
    {
      "cell_type": "code",
      "execution_count": 33,
      "metadata": {
        "id": "ITk_kg8BerTS"
      },
      "outputs": [],
      "source": [
        "flop_by_layers = flop(\n",
        "    model=model_pruned_thresh_0_4, \n",
        "    input_shape=(\n",
        "        1, \n",
        "        model_pruned_thresh_0_4.model_settings['fingerprint_width'], \n",
        "        model_pruned_thresh_0_4.model_settings['spectrogram_length']\n",
        "    ), \n",
        "    device=device)\n",
        "flops_struct_pruned_models.append(sum([sum(val.values()) for val in flop_by_layers.values()]))"
      ]
    },
    {
      "cell_type": "code",
      "execution_count": 34,
      "metadata": {
        "id": "rQhHTIJKC8sf"
      },
      "outputs": [],
      "source": [
        "flop_by_layers = flop(\n",
        "    model=model_pruned_thresh_0_5, \n",
        "    input_shape=(\n",
        "        1, \n",
        "        model_pruned_thresh_0_5.model_settings['fingerprint_width'], \n",
        "        model_pruned_thresh_0_5.model_settings['spectrogram_length']\n",
        "    ), \n",
        "    device=device)\n",
        "flops_struct_pruned_models.append(sum([sum(val.values()) for val in flop_by_layers.values()]))"
      ]
    },
    {
      "cell_type": "code",
      "execution_count": 35,
      "metadata": {
        "id": "RHty_4vftYwH"
      },
      "outputs": [],
      "source": [
        "flop_by_layers = flop(\n",
        "    model=model_pruned_thresh_0_6, \n",
        "    input_shape=(\n",
        "        1, \n",
        "        model_pruned_thresh_0_6.model_settings['fingerprint_width'], \n",
        "        model_pruned_thresh_0_6.model_settings['spectrogram_length']\n",
        "    ), \n",
        "    device=device)\n",
        "flops_struct_pruned_models.append(sum([sum(val.values()) for val in flop_by_layers.values()]))"
      ]
    },
    {
      "cell_type": "code",
      "execution_count": 36,
      "metadata": {
        "id": "YqoFm5JQuNSK"
      },
      "outputs": [],
      "source": [
        "flop_by_layers = flop(\n",
        "    model=model_pruned_thresh_0_9, \n",
        "    input_shape=(\n",
        "        1, \n",
        "        model_pruned_thresh_0_9.model_settings['fingerprint_width'], \n",
        "        model_pruned_thresh_0_9.model_settings['spectrogram_length']\n",
        "    ), \n",
        "    device=device)\n",
        "flops_struct_pruned_models.append(sum([sum(val.values()) for val in flop_by_layers.values()]))"
      ]
    },
    {
      "cell_type": "code",
      "execution_count": 37,
      "metadata": {
        "colab": {
          "base_uri": "https://localhost:8080/"
        },
        "id": "wNzXgRvLZy9N",
        "outputId": "5d507f2b-dff1-440f-d26c-3ebd329343f5"
      },
      "outputs": [
        {
          "name": "stdout",
          "output_type": "stream",
          "text": [
            "[507004, 422504, 338004, 253504, 84504]\n"
          ]
        }
      ],
      "source": [
        "print(flops_struct_pruned_models)"
      ]
    },
    {
      "cell_type": "code",
      "execution_count": 38,
      "metadata": {
        "colab": {
          "base_uri": "https://localhost:8080/",
          "height": 621
        },
        "id": "buUmAjP4vv51",
        "outputId": "638e6187-73ed-407b-d1d2-71eb5c6ae19d"
      },
      "outputs": [
        {
          "data": {
            "image/png": "[encoded data removed]",
            "text/plain": [
              "<Figure size 720x720 with 1 Axes>"
            ]
          },
          "metadata": {
            "needs_background": "light"
          },
          "output_type": "display_data"
        }
      ],
      "source": [
        "import matplotlib.pyplot as plt\n",
        "fig = plt.figure(figsize=(10,10))\n",
        "colors = ['r', 'g', 'b', 'orange', 'y']\n",
        "plt.title('Accuracy vs FLOPs for Pruned models with Structured Pruning without Finetuning')\n",
        "for idx,thr in enumerate(thresholds):\n",
        "  plt.scatter(flops_struct_pruned_models[idx],pruned_model_accs[idx],color=colors[idx],label=f'Threshold = {thr}')\n",
        "plt.xlabel('FLOPs')\n",
        "plt.ylabel('Accuracy (%)')\n",
        "plt.legend()\n",
        "fig.savefig('/content/params_vs_flops_structured_pruned_models_no_finetune.png')\n",
        "plt.show()"
      ]
    },
    {
      "cell_type": "code",
      "execution_count": 39,
      "metadata": {
        "colab": {
          "base_uri": "https://localhost:8080/",
          "height": 621
        },
        "id": "QsNd7KHjaGFo",
        "outputId": "e7529dc4-e3c8-4da8-d277-ac83a733ceb1"
      },
      "outputs": [
        {
          "data": {
            "image/png": "[encoded data removed]",
            "text/plain": [
              "<Figure size 720x720 with 1 Axes>"
            ]
          },
          "metadata": {
            "needs_background": "light"
          },
          "output_type": "display_data"
        }
      ],
      "source": [
        "import matplotlib.pyplot as plt\n",
        "fig = plt.figure(figsize=(10,10))\n",
        "colors = ['r', 'g', 'b', 'orange', 'y']\n",
        "plt.title('Accuracy vs FLOPs for Pruned models with Structured Pruning with Finetuning')\n",
        "for idx,thr in enumerate(thresholds):\n",
        "  plt.scatter(flops_struct_pruned_models[idx],pruned_finetuned_test_acc[idx],color=colors[idx],label=f'Threshold = {thr}')\n",
        "plt.xlabel('FLOPs')\n",
        "plt.ylabel('Accuracy (%)')\n",
        "plt.legend()\n",
        "fig.savefig('/content/params_vs_flops_structured_pruned_models_finetuned.png')\n",
        "plt.show()"
      ]
    }
  ],
  "metadata": {
    "accelerator": "GPU",
    "colab": {
      "provenance": []
    },
    "gpuClass": "standard",
    "interpreter": {
      "hash": "eed6bdaff5cc743acd241b8f3fe4c5dc3266475018a66ac615ca19ad2f28387d"
    },
    "kernelspec": {
      "display_name": "Python 3",
      "name": "python3"
    },
    "language_info": {
      "name": "python"
    }
  },
  "nbformat": 4,
  "nbformat_minor": 0
}
