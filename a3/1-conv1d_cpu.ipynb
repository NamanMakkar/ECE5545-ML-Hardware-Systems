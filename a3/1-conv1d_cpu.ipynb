{
  "cells": [
    {
      "cell_type": "markdown",
      "metadata": {
        "id": "9eGZIh3o1xch"
      },
      "source": [
        "# 1D Convolution on CPU"
      ]
    },
    {
      "cell_type": "markdown",
      "metadata": {
        "id": "r5gwyPUUumRA"
      },
      "source": [
        "## 1. Set-up "
      ]
    },
    {
      "cell_type": "code",
      "execution_count": 1,
      "metadata": {
        "id": "LNyXaMjvumRA",
        "colab": {
          "base_uri": "https://localhost:8080/"
        },
        "outputId": "21b35935-9972-4ee9-de0a-723ee6c6b572"
      },
      "outputs": [
        {
          "output_type": "stream",
          "name": "stdout",
          "text": [
            "Mounted at /content/drive\n"
          ]
        }
      ],
      "source": [
        "# Mount google drive \n",
        "from google.colab import drive\n",
        "drive.mount('/content/drive')"
      ]
    },
    {
      "cell_type": "code",
      "execution_count": 2,
      "metadata": {
        "id": "fslOIHToumRB"
      },
      "outputs": [],
      "source": [
        "# Make sure your token is stored in a txt file at the location below.\n",
        "# This way there is no risk that you will push it to your repo\n",
        "# Never share your token with anyone, it is basically your github password!\n",
        "with open('/content/drive/MyDrive/ece5545/token.txt') as f:\n",
        "    token = f.readline().strip()\n",
        "# Use another file to store your github username    \n",
        "with open('/content/drive/MyDrive/ece5545/git_username.txt') as f:\n",
        "    handle = f.readline().strip()"
      ]
    },
    {
      "cell_type": "code",
      "execution_count": 3,
      "metadata": {
        "id": "QfKvlI6fumRC",
        "colab": {
          "base_uri": "https://localhost:8080/"
        },
        "outputId": "ddd38fb9-9f62-4146-e995-962709812846"
      },
      "outputs": [
        {
          "output_type": "stream",
          "name": "stdout",
          "text": [
            "mkdir: cannot create directory ‘/content/drive/MyDrive/ece5545’: File exists\n",
            "/content/drive/MyDrive/ece5545\n",
            "fatal: destination path 'a3-NamanMakkar' already exists and is not an empty directory.\n",
            "/content/drive/MyDrive/ece5545/a3-NamanMakkar\n",
            "Already on 'main'\n",
            "Your branch is up to date with 'origin/main'.\n",
            "Already up to date.\n",
            "/content/drive/MyDrive/ece5545\n"
          ]
        }
      ],
      "source": [
        "# Clone your github repo\n",
        "YOUR_TOKEN = token\n",
        "YOUR_HANDLE = handle\n",
        "BRANCH = \"main\"\n",
        "\n",
        "%mkdir /content/drive/MyDrive/ece5545\n",
        "%cd /content/drive/MyDrive/ece5545\n",
        "!git clone https://{YOUR_TOKEN}@github.com/ML-HW-SYS/a3-{YOUR_HANDLE}.git\n",
        "%cd /content/drive/MyDrive/ece5545/a3-{YOUR_HANDLE}\n",
        "!git checkout {BRANCH}\n",
        "!git pull\n",
        "%cd /content/drive/MyDrive/ece5545\n",
        "\n",
        "PROJECT_ROOT = f\"/content/drive/MyDrive/ece5545/a3-{YOUR_HANDLE}\""
      ]
    },
    {
      "cell_type": "code",
      "execution_count": 4,
      "metadata": {
        "id": "bfYFWbSkumRC"
      },
      "outputs": [],
      "source": [
        "# This extension reloads all imports before running each cell\n",
        "%load_ext autoreload\n",
        "%autoreload 2"
      ]
    },
    {
      "cell_type": "markdown",
      "metadata": {
        "id": "0p1XcV5TumRE"
      },
      "source": [
        "Verify the following cell prints your github repository."
      ]
    },
    {
      "cell_type": "code",
      "execution_count": 5,
      "metadata": {
        "id": "kSCb_BXlumRE",
        "colab": {
          "base_uri": "https://localhost:8080/"
        },
        "outputId": "7111f910-7e86-4af6-ca43-7121a50a937c"
      },
      "outputs": [
        {
          "output_type": "stream",
          "name": "stdout",
          "text": [
            "1-conv1d_cpu.ipynb   4-gemm_gpu.ipynb\t    README.md\n",
            "2-conv1d_gpu.ipynb   5-conv2d_dw_gpu.ipynb  src\n",
            "3-conv1d_fpga.ipynb  leaderboard_id.txt     tests\n"
          ]
        }
      ],
      "source": [
        "!ls {PROJECT_ROOT}"
      ]
    },
    {
      "cell_type": "markdown",
      "metadata": {
        "id": "Iyx3vv_3umRF"
      },
      "source": [
        "## 2. Install TVM"
      ]
    },
    {
      "cell_type": "code",
      "execution_count": 6,
      "metadata": {
        "id": "01l1WUgRumRG",
        "colab": {
          "base_uri": "https://localhost:8080/"
        },
        "outputId": "9dfb88ee-14ba-41cc-a8d1-3c29dbdfb475"
      },
      "outputs": [
        {
          "output_type": "stream",
          "name": "stdout",
          "text": [
            "Looking in indexes: https://pypi.org/simple, https://us-python.pkg.dev/colab-wheels/public/simple/\n",
            "Looking in links: https://tlcpack.ai/wheels\n",
            "Collecting tlcpack-nightly-cu102\n",
            "  Downloading https://github.com/tlc-pack/tlcpack/releases/download/v0.12.dev/tlcpack_nightly_cu102-0.13.dev45%2Bge86a470ce-cp39-cp39-manylinux_2_17_x86_64.manylinux2014_x86_64.whl (408.0 MB)\n",
            "\u001b[2K     \u001b[90m━━━━━━━━━━━━━━━━━━━━━━━━━━━━━━━━━━━━━━━\u001b[0m \u001b[32m408.0/408.0 MB\u001b[0m \u001b[31m3.8 MB/s\u001b[0m eta \u001b[36m0:00:00\u001b[0m\n",
            "\u001b[?25hRequirement already satisfied: decorator in /usr/local/lib/python3.9/dist-packages (from tlcpack-nightly-cu102) (4.4.2)\n",
            "Requirement already satisfied: attrs in /usr/local/lib/python3.9/dist-packages (from tlcpack-nightly-cu102) (22.2.0)\n",
            "Requirement already satisfied: cloudpickle in /usr/local/lib/python3.9/dist-packages (from tlcpack-nightly-cu102) (2.2.1)\n",
            "Requirement already satisfied: psutil in /usr/local/lib/python3.9/dist-packages (from tlcpack-nightly-cu102) (5.9.4)\n",
            "Requirement already satisfied: numpy<=1.23 in /usr/local/lib/python3.9/dist-packages (from tlcpack-nightly-cu102) (1.22.4)\n",
            "Requirement already satisfied: tornado in /usr/local/lib/python3.9/dist-packages (from tlcpack-nightly-cu102) (6.2)\n",
            "Requirement already satisfied: scipy in /usr/local/lib/python3.9/dist-packages (from tlcpack-nightly-cu102) (1.10.1)\n",
            "Installing collected packages: tlcpack-nightly-cu102\n",
            "Successfully installed tlcpack-nightly-cu102-0.13.dev45+ge86a470ce\n"
          ]
        }
      ],
      "source": [
        "!pip install tlcpack-nightly-cu102 -f https://tlcpack.ai/wheels"
      ]
    },
    {
      "cell_type": "markdown",
      "metadata": {
        "id": "BwbPgyceumRG"
      },
      "source": [
        "## 3. Implement `make_conv1d_cpu_scheduler_func` function in `src.ops`\n",
        "\n",
        "In that function, you are required to implemented 1D convolution and use TVM to optimize it.\n",
        "Let $x \\in \\mathbb{R}^m$ and $y \\in \\mathbb{R}^n$, then \n",
        "$$\n",
        "\\operatorname{conv1d}(x, y)_i = \\sum_{j=-\\infty}^{\\infty} x[j]y[i-j], \\forall i \\in \\{0, 1, \\dots, m + n - 1\\}\n",
        "$$\n",
        "\n",
        "Please use zero padding and unit stride. Please see the numpy convolution function for more detail: [link](https://numpy.org/doc/stable/reference/generated/numpy.convolve.html).\n",
        "\n",
        "The `make_conv1d_cpu_scheduler_func` takes $m$ and $n$, which are the size of the two 1D input array. \n",
        "You should return both the TVM schedule and the TVM operator for \n",
        "1. Input $x$\n",
        "2. Input $y$\n",
        "3. Output $out$\n",
        "\n",
        "The schedule should be able to used to build a function with signature $func(x, y, out)$. \n",
        "Please see the following cells the usage."
      ]
    },
    {
      "cell_type": "code",
      "execution_count": 10,
      "metadata": {
        "id": "aYlQNGnWumRG",
        "colab": {
          "base_uri": "https://localhost:8080/"
        },
        "outputId": "4e1f3df2-8c90-4ae5-b78b-718a896a8fcc"
      },
      "outputs": [
        {
          "output_type": "stream",
          "name": "stdout",
          "text": [
            "Answer: [0.5634176  0.5735868  1.1364146  ... 0.9448417  0.51518357 0.47124672]\n",
            "Output: [0.5634176  0.5735868  1.1364148  ... 0.9448417  0.51518357 0.47124672]\n",
            "1D conv TVM runtime: 0.293483 ms\n"
          ]
        }
      ],
      "source": [
        "import tvm\n",
        "import numpy as np\n",
        "import sys\n",
        "# Adding assignment 3 to the system path\n",
        "# Make sure this matches your git directory\n",
        "sys.path.insert(0, PROJECT_ROOT)\n",
        "from src.ops import make_conv1d_cpu_scheduler\n",
        "import os\n",
        "import tvm\n",
        "from tvm import te\n",
        "\n",
        "M = 4096\n",
        "N = 128\n",
        "dtype = 'float32'\n",
        "a_np = np.random.rand(M).astype(dtype)\n",
        "w_np = np.random.rand(N).astype(dtype)\n",
        "b_np = np.convolve(a_np, w_np)\n",
        "\n",
        "s, A, W, B = make_conv1d_cpu_scheduler(M, N)\n",
        "func = tvm.build(s, [A, W, B], \"llvm\")\n",
        "\n",
        "dev = tvm.cpu()\n",
        "a = tvm.nd.array(a_np, dev)\n",
        "w = tvm.nd.array(w_np, dev)\n",
        "b = tvm.nd.array(np.zeros((M+N-1), dtype), dev)\n",
        "func(a, w, b)\n",
        "evaluator = func.time_evaluator(func.entry_name, dev, number=1, repeat =1)\n",
        "\n",
        "\n",
        "print(\"Answer:\", b_np)\n",
        "print(\"Output:\", b)\n",
        "print(f\"1D conv TVM runtime: %f ms\" % (evaluator(a, w, b).mean * 1e3))"
      ]
    },
    {
      "cell_type": "code",
      "execution_count": 11,
      "metadata": {
        "id": "XwaNWdciumRH",
        "colab": {
          "base_uri": "https://localhost:8080/"
        },
        "outputId": "d46664d4-ec80-4eb7-8675-9d1e9647933d"
      },
      "outputs": [
        {
          "output_type": "stream",
          "name": "stdout",
          "text": [
            "# from tvm.script import ir as I\n",
            "# from tvm.script import tir as T\n",
            "\n",
            "@I.ir_module\n",
            "class Module:\n",
            "    @T.prim_func\n",
            "    def main(A: T.Buffer((4096,), \"float32\"), W: T.Buffer((128,), \"float32\"), B: T.Buffer((4223,), \"float32\")):\n",
            "        T.func_attr({\"from_legacy_te_schedule\": T.bool(True), \"global_symbol\": \"main\", \"tir.noalias\": T.bool(True)})\n",
            "        padded_A = T.allocate([4350], \"float32\", \"global\")\n",
            "        padded_A_local = T.allocate([31], \"float32\", \"local\")\n",
            "        W_local = T.allocate([16], \"float32\", \"local\")\n",
            "        padded_A_1 = T.Buffer((4350,), data=padded_A)\n",
            "        for n in range(4350):\n",
            "            A_1 = T.Buffer((4096,), data=A.data)\n",
            "            padded_A_1[n] = T.if_then_else(n < 127 or 4223 <= n, T.float32(0), A_1[n - 127])\n",
            "        for n_outer in range(264):\n",
            "            B_1 = T.Buffer((4223,), data=B.data)\n",
            "            for n_inner_init_s in range(16):\n",
            "                if T.likely(n_outer * 16 + n_inner_init_s < 4223):\n",
            "                    B_1[n_outer * 16 + n_inner_init_s] = T.float32(0)\n",
            "            for k_outer in range(8):\n",
            "                padded_A_local_1 = T.Buffer((31,), data=padded_A_local, scope=\"local\")\n",
            "                for ax0 in range(31):\n",
            "                    if T.likely(n_outer * 16 + ax0 - k_outer * 16 < 4238):\n",
            "                        padded_A_local_1[ax0] = padded_A_1[n_outer * 16 + ax0 + 112 - k_outer * 16]\n",
            "                W_local_1 = T.Buffer((16,), data=W_local, scope=\"local\")\n",
            "                for ax0 in range(16):\n",
            "                    W_1 = T.Buffer((128,), data=W.data)\n",
            "                    W_local_1[ax0] = W_1[k_outer * 16 + ax0]\n",
            "                for n_inner_s in range(16):\n",
            "                    if T.likely(n_outer * 16 + n_inner_s < 4223):\n",
            "                        cse_var_1: T.int32 = n_outer * 16 + n_inner_s\n",
            "                        B_1[cse_var_1] = B_1[cse_var_1] + padded_A_local_1[n_inner_s + 15] * W_local_1[0]\n",
            "                for n_inner_s in range(16):\n",
            "                    if T.likely(n_outer * 16 + n_inner_s < 4223):\n",
            "                        cse_var_2: T.int32 = n_outer * 16 + n_inner_s\n",
            "                        B_1[cse_var_2] = B_1[cse_var_2] + padded_A_local_1[n_inner_s + 14] * W_local_1[1]\n",
            "                for n_inner_s in range(16):\n",
            "                    if T.likely(n_outer * 16 + n_inner_s < 4223):\n",
            "                        cse_var_3: T.int32 = n_outer * 16 + n_inner_s\n",
            "                        B_1[cse_var_3] = B_1[cse_var_3] + padded_A_local_1[n_inner_s + 13] * W_local_1[2]\n",
            "                for n_inner_s in range(16):\n",
            "                    if T.likely(n_outer * 16 + n_inner_s < 4223):\n",
            "                        cse_var_4: T.int32 = n_outer * 16 + n_inner_s\n",
            "                        B_1[cse_var_4] = B_1[cse_var_4] + padded_A_local_1[n_inner_s + 12] * W_local_1[3]\n",
            "                for n_inner_s in range(16):\n",
            "                    if T.likely(n_outer * 16 + n_inner_s < 4223):\n",
            "                        cse_var_5: T.int32 = n_outer * 16 + n_inner_s\n",
            "                        B_1[cse_var_5] = B_1[cse_var_5] + padded_A_local_1[n_inner_s + 11] * W_local_1[4]\n",
            "                for n_inner_s in range(16):\n",
            "                    if T.likely(n_outer * 16 + n_inner_s < 4223):\n",
            "                        cse_var_6: T.int32 = n_outer * 16 + n_inner_s\n",
            "                        B_1[cse_var_6] = B_1[cse_var_6] + padded_A_local_1[n_inner_s + 10] * W_local_1[5]\n",
            "                for n_inner_s in range(16):\n",
            "                    if T.likely(n_outer * 16 + n_inner_s < 4223):\n",
            "                        cse_var_7: T.int32 = n_outer * 16 + n_inner_s\n",
            "                        B_1[cse_var_7] = B_1[cse_var_7] + padded_A_local_1[n_inner_s + 9] * W_local_1[6]\n",
            "                for n_inner_s in range(16):\n",
            "                    if T.likely(n_outer * 16 + n_inner_s < 4223):\n",
            "                        cse_var_8: T.int32 = n_outer * 16 + n_inner_s\n",
            "                        B_1[cse_var_8] = B_1[cse_var_8] + padded_A_local_1[n_inner_s + 8] * W_local_1[7]\n",
            "                for n_inner_s in range(16):\n",
            "                    if T.likely(n_outer * 16 + n_inner_s < 4223):\n",
            "                        cse_var_9: T.int32 = n_outer * 16 + n_inner_s\n",
            "                        B_1[cse_var_9] = B_1[cse_var_9] + padded_A_local_1[n_inner_s + 7] * W_local_1[8]\n",
            "                for n_inner_s in range(16):\n",
            "                    if T.likely(n_outer * 16 + n_inner_s < 4223):\n",
            "                        cse_var_10: T.int32 = n_outer * 16 + n_inner_s\n",
            "                        B_1[cse_var_10] = B_1[cse_var_10] + padded_A_local_1[n_inner_s + 6] * W_local_1[9]\n",
            "                for n_inner_s in range(16):\n",
            "                    if T.likely(n_outer * 16 + n_inner_s < 4223):\n",
            "                        cse_var_11: T.int32 = n_outer * 16 + n_inner_s\n",
            "                        B_1[cse_var_11] = B_1[cse_var_11] + padded_A_local_1[n_inner_s + 5] * W_local_1[10]\n",
            "                for n_inner_s in range(16):\n",
            "                    if T.likely(n_outer * 16 + n_inner_s < 4223):\n",
            "                        cse_var_12: T.int32 = n_outer * 16 + n_inner_s\n",
            "                        B_1[cse_var_12] = B_1[cse_var_12] + padded_A_local_1[n_inner_s + 4] * W_local_1[11]\n",
            "                for n_inner_s in range(16):\n",
            "                    if T.likely(n_outer * 16 + n_inner_s < 4223):\n",
            "                        cse_var_13: T.int32 = n_outer * 16 + n_inner_s\n",
            "                        B_1[cse_var_13] = B_1[cse_var_13] + padded_A_local_1[n_inner_s + 3] * W_local_1[12]\n",
            "                for n_inner_s in range(16):\n",
            "                    if T.likely(n_outer * 16 + n_inner_s < 4223):\n",
            "                        cse_var_14: T.int32 = n_outer * 16 + n_inner_s\n",
            "                        B_1[cse_var_14] = B_1[cse_var_14] + padded_A_local_1[n_inner_s + 2] * W_local_1[13]\n",
            "                for n_inner_s in range(16):\n",
            "                    if T.likely(n_outer * 16 + n_inner_s < 4223):\n",
            "                        cse_var_15: T.int32 = n_outer * 16 + n_inner_s\n",
            "                        B_1[cse_var_15] = B_1[cse_var_15] + padded_A_local_1[n_inner_s + 1] * W_local_1[14]\n",
            "                for n_inner_s in range(16):\n",
            "                    if T.likely(n_outer * 16 + n_inner_s < 4223):\n",
            "                        cse_var_16: T.int32 = n_outer * 16 + n_inner_s\n",
            "                        B_1[cse_var_16] = B_1[cse_var_16] + padded_A_local_1[n_inner_s] * W_local_1[15]\n"
          ]
        }
      ],
      "source": [
        "print(tvm.lower(s, [A, W, B], simple_mode=True))"
      ]
    },
    {
      "cell_type": "code",
      "execution_count": 12,
      "metadata": {
        "id": "3ozhQY7gumRH",
        "scrolled": true,
        "colab": {
          "base_uri": "https://localhost:8080/"
        },
        "outputId": "443ef92e-8dc9-47d5-be1e-7b2bb2789dd8"
      },
      "outputs": [
        {
          "output_type": "stream",
          "name": "stdout",
          "text": [
            "/content/drive/MyDrive/ece5545/a3-NamanMakkar\n",
            "\u001b[1m============================= test session starts ==============================\u001b[0m\n",
            "platform linux -- Python 3.9.16, pytest-7.2.2, pluggy-1.0.0\n",
            "rootdir: /content/drive/MyDrive/ece5545/a3-NamanMakkar\n",
            "plugins: anyio-3.6.2\n",
            "collected 15 items                                                             \u001b[0m\n",
            "\n",
            "tests/test_1dconv_cpu.py \u001b[32m.\u001b[0m\u001b[32m.\u001b[0m\u001b[32m.\u001b[0m\u001b[32m.\u001b[0m\u001b[32m.\u001b[0m\u001b[32m.\u001b[0m\u001b[32m.\u001b[0m\u001b[32m.\u001b[0m\u001b[32m.\u001b[0m\u001b[32m.\u001b[0m\u001b[32m.\u001b[0m\u001b[32m.\u001b[0m\u001b[32m.\u001b[0m\u001b[32m.\u001b[0m\u001b[32m.\u001b[0m\u001b[32m                                 [100%]\u001b[0m\n",
            "\n",
            "\u001b[32m============================= \u001b[32m\u001b[1m15 passed\u001b[0m\u001b[32m in 18.90s\u001b[0m\u001b[32m ==============================\u001b[0m\n"
          ]
        }
      ],
      "source": [
        "%cd {PROJECT_ROOT}\n",
        "!python -m pytest tests/test_1dconv_cpu.py"
      ]
    },
    {
      "cell_type": "code",
      "source": [],
      "metadata": {
        "id": "evIAvBidHTTU"
      },
      "execution_count": null,
      "outputs": []
    }
  ],
  "metadata": {
    "colab": {
      "provenance": [],
      "gpuType": "T4"
    },
    "kernelspec": {
      "display_name": "Python 3 (ipykernel)",
      "language": "python",
      "name": "python3"
    },
    "language_info": {
      "codemirror_mode": {
        "name": "ipython",
        "version": 3
      },
      "file_extension": ".py",
      "mimetype": "text/x-python",
      "name": "python",
      "nbconvert_exporter": "python",
      "pygments_lexer": "ipython3",
      "version": "3.8.3"
    },
    "gpuClass": "standard"
  },
  "nbformat": 4,
  "nbformat_minor": 0
}