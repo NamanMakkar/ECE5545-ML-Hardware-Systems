{
  "cells": [
    {
      "cell_type": "markdown",
      "metadata": {
        "id": "view-in-github"
      },
      "source": [
        "<a href=\"https://colab.research.google.com/github/ML-HW-SYS/a0/blob/main/a0.ipynb\" target=\"_parent\"><img src=\"https://colab.research.google.com/assets/colab-badge.svg\" alt=\"Open In Colab\"/></a>"
      ]
    },
    {
      "cell_type": "markdown",
      "metadata": {
        "id": "7irm-4sk8Ffa"
      },
      "source": [
        "##Git and Drive Integration"
      ]
    },
    {
      "cell_type": "code",
      "execution_count": 1,
      "metadata": {
        "id": "FJny0Nxk8IuJ"
      },
      "outputs": [],
      "source": [
        "from __future__ import print_function\n",
        "import argparse\n",
        "import torch\n",
        "import torch.nn as nn\n",
        "import torch.nn.functional as F\n",
        "import torch.optim as optim\n",
        "from torchvision import datasets, transforms\n",
        "from torch.optim.lr_scheduler import StepLR\n",
        "import time"
      ]
    },
    {
      "cell_type": "markdown",
      "metadata": {
        "id": "WERRgUiQLkgH"
      },
      "source": [
        "### Mount google drive"
      ]
    },
    {
      "cell_type": "code",
      "execution_count": 2,
      "metadata": {
        "colab": {
          "base_uri": "https://localhost:8080/"
        },
        "id": "2O_GmMbWCov1",
        "outputId": "cf97dd1a-4f32-480b-ddb6-5eaaa937c754"
      },
      "outputs": [
        {
          "name": "stdout",
          "output_type": "stream",
          "text": [
            "Mounted at /content/drive\n"
          ]
        }
      ],
      "source": [
        "from google.colab import drive\n",
        "drive.mount('/content/drive')"
      ]
    },
    {
      "cell_type": "markdown",
      "metadata": {
        "id": "dOUJ-qFnLqw7"
      },
      "source": [
        "### Clone the assignment repository"
      ]
    },
    {
      "cell_type": "code",
      "execution_count": 3,
      "metadata": {
        "colab": {
          "base_uri": "https://localhost:8080/"
        },
        "id": "PZpt4K8HJ86p",
        "outputId": "1c1f37f7-4868-466f-fafc-31768d01c166"
      },
      "outputs": [
        {
          "name": "stdout",
          "output_type": "stream",
          "text": [
            "/content/drive/MyDrive/ece5545\n",
            "Cloning into 'a0-NamanMakkar'...\n",
            "remote: Enumerating objects: 26, done.\u001b[K\n",
            "remote: Counting objects: 100% (26/26), done.\u001b[K\n",
            "remote: Compressing objects: 100% (19/19), done.\u001b[K\n",
            "remote: Total 26 (delta 5), reused 13 (delta 3), pack-reused 0\u001b[K\n",
            "Unpacking objects: 100% (26/26), 15.19 KiB | 68.00 KiB/s, done.\n"
          ]
        }
      ],
      "source": [
        "# Clone repository in google drive\n",
        "%mkdir /content/drive/MyDrive/ece5545\n",
        "%cd /content/drive/MyDrive/ece5545\n",
        "!git clone https://YOUR_TOKEN@github.com/ML-HW-SYS/a0-NamanMakkar.git #paste your github token here"
      ]
    },
    {
      "cell_type": "markdown",
      "metadata": {
        "id": "eCOS6gDnLvzr"
      },
      "source": [
        "### Add `src` directory to the Python import path"
      ]
    },
    {
      "cell_type": "code",
      "execution_count": 4,
      "metadata": {
        "id": "tZAlavR7KzQ8"
      },
      "outputs": [],
      "source": [
        "# import functions from the src directory in repo\n",
        "import sys\n",
        "sys.path.insert(0, '/content/drive/MyDrive/ece5545/a0-NamanMakkar/src')"
      ]
    },
    {
      "cell_type": "markdown",
      "metadata": {
        "id": "2xC-uqgYL3n9"
      },
      "source": [
        "### Import functions from `src/train_utils.py`"
      ]
    },
    {
      "cell_type": "code",
      "execution_count": 5,
      "metadata": {
        "id": "4We44OWFLF-1"
      },
      "outputs": [],
      "source": [
        "import train_utils\n",
        "from model import *"
      ]
    },
    {
      "cell_type": "markdown",
      "metadata": {
        "id": "hnu4vIr8QJKR"
      },
      "source": [
        "### Make changes to `src` files and push to repo"
      ]
    },
    {
      "cell_type": "code",
      "execution_count": null,
      "metadata": {
        "id": "CtH2Xy7TQRq7"
      },
      "outputs": [],
      "source": [
        "# You will likely need to set your git user identification settings\n",
        "!git config --global user.email \"email\"  # update with your email\n",
        "!git config --global user.name \"Naman Makkar\"   # update with your name"
      ]
    },
    {
      "cell_type": "code",
      "execution_count": 6,
      "metadata": {
        "colab": {
          "base_uri": "https://localhost:8080/"
        },
        "id": "8IEDZpwTdF_z",
        "outputId": "34fc7592-81bc-4403-f48a-c5aeef2d9a28"
      },
      "outputs": [
        {
          "name": "stdout",
          "output_type": "stream",
          "text": [
            "/content/drive/MyDrive/ece5545/a0-NamanMakkar\n",
            "\u001b[1m============================= test session starts ==============================\u001b[0m\n",
            "platform linux -- Python 3.8.10, pytest-3.6.4, py-1.11.0, pluggy-0.7.1\n",
            "rootdir: /content/drive/MyDrive/ece5545/a0-NamanMakkar, inifile:\n",
            "plugins: typeguard-2.7.1\n",
            "collected 1 item                                                               \u001b[0m\n",
            "\n",
            "tests/test_model.py .\u001b[36m                                                    [100%]\u001b[0m\n",
            "\n",
            "\u001b[32m\u001b[1m=========================== 1 passed in 1.57 seconds ===========================\u001b[0m\n"
          ]
        }
      ],
      "source": [
        "# To run the same tests that are run on Github Classroom\n",
        "%cd /content/drive/MyDrive/ece5545/a0-NamanMakkar\n",
        "!python3 -m pytest"
      ]
    },
    {
      "cell_type": "code",
      "execution_count": null,
      "metadata": {
        "id": "BfekNg28QJXK"
      },
      "outputs": [],
      "source": [
        "%cd /content/gdrive/MyDrive/ece5545/a0/src\n",
        "# Navigate to a0/src/model.py and fix the bug (denoted by TODO)\n",
        "# in the file then commit the changes below\n",
        "!git commit -am \"fixed bug in model.py\"\n",
        "!git push"
      ]
    },
    {
      "cell_type": "markdown",
      "metadata": {
        "id": "S4U_ErcR8jm4"
      },
      "source": [
        "## Training Configuration"
      ]
    },
    {
      "cell_type": "code",
      "execution_count": 13,
      "metadata": {
        "id": "48UjE1Ub8miw"
      },
      "outputs": [],
      "source": [
        "batch_size = 256\n",
        "epochs = 5\n",
        "lr = 1.0\n",
        "gamma = 0.7\n",
        "no_cuda = False\n",
        "seed = 42\n",
        "log_interval = 50\n",
        "save_model = False\n",
        "dry_run = False\n",
        "\n",
        "# Derived parameters\n",
        "use_cuda = not no_cuda and torch.cuda.is_available()\n",
        "torch.manual_seed(seed)\n",
        "device = torch.device(\"cuda\" if use_cuda else \"cpu\")\n",
        "\n",
        "train_kwargs = {'batch_size': batch_size}\n",
        "test_kwargs = {'batch_size': batch_size}\n",
        "if use_cuda:\n",
        "    cuda_kwargs = {'num_workers': 1,\n",
        "                   'pin_memory': True,\n",
        "                   'shuffle': True}\n",
        "    train_kwargs.update(cuda_kwargs)\n",
        "    test_kwargs.update(cuda_kwargs)"
      ]
    },
    {
      "cell_type": "markdown",
      "metadata": {
        "id": "8Op3rAAv8r6y"
      },
      "source": [
        "## Data Loaders and Optimizer Setup"
      ]
    },
    {
      "cell_type": "code",
      "execution_count": 14,
      "metadata": {
        "id": "bwFBxzFA8yy8"
      },
      "outputs": [],
      "source": [
        "transform=transforms.Compose([\n",
        "    transforms.ToTensor(),\n",
        "    transforms.Normalize((0.1307,), (0.3081,))\n",
        "    ])\n",
        "dataset1 = datasets.MNIST('/content/drive/MyDrive/ece5545/data', train=True, download=True,\n",
        "                    transform=transform)\n",
        "dataset2 = datasets.MNIST('/content/drive/MyDrive/ece5545/data', train=False,\n",
        "                       transform=transform)\n",
        "train_loader = torch.utils.data.DataLoader(dataset1,**train_kwargs)\n",
        "test_loader = torch.utils.data.DataLoader(dataset2, **test_kwargs)\n",
        "\n",
        "model = Net().to(device)\n",
        "optimizer = optim.Adadelta(model.parameters(), lr=lr)\n",
        "\n",
        "scheduler = StepLR(optimizer, step_size=1, gamma=gamma)"
      ]
    },
    {
      "cell_type": "markdown",
      "metadata": {
        "id": "y10wFNoo81-U"
      },
      "source": [
        "## Training Loop"
      ]
    },
    {
      "cell_type": "code",
      "execution_count": 15,
      "metadata": {
        "colab": {
          "base_uri": "https://localhost:8080/"
        },
        "id": "NGnAaTm64X_l",
        "outputId": "4ee80ebc-c653-4a4a-cb68-150e5df1fb7e"
      },
      "outputs": [
        {
          "name": "stdout",
          "output_type": "stream",
          "text": [
            "Train Epoch: 1 [0/60000 (0%)]\tLoss: 2.305827\n",
            "Train Epoch: 1 [12800/60000 (21%)]\tLoss: 0.346413\n",
            "Train Epoch: 1 [25600/60000 (43%)]\tLoss: 0.154351\n",
            "Train Epoch: 1 [38400/60000 (64%)]\tLoss: 0.143373\n",
            "Train Epoch: 1 [51200/60000 (85%)]\tLoss: 0.146503\n",
            "\n",
            "Epoch 1 time = 12.76s on device cuda\n",
            "\n",
            "Test set: Average loss: 0.0549, Accuracy: 9825/10000 (98%)\n",
            "\n",
            "Train Epoch: 2 [0/60000 (0%)]\tLoss: 0.108222\n",
            "Train Epoch: 2 [12800/60000 (21%)]\tLoss: 0.085491\n",
            "Train Epoch: 2 [25600/60000 (43%)]\tLoss: 0.092485\n",
            "Train Epoch: 2 [38400/60000 (64%)]\tLoss: 0.080639\n",
            "Train Epoch: 2 [51200/60000 (85%)]\tLoss: 0.087011\n",
            "\n",
            "Epoch 2 time = 12.11s on device cuda\n",
            "\n",
            "Test set: Average loss: 0.0346, Accuracy: 9875/10000 (99%)\n",
            "\n",
            "Train Epoch: 3 [0/60000 (0%)]\tLoss: 0.038927\n",
            "Train Epoch: 3 [12800/60000 (21%)]\tLoss: 0.028046\n",
            "Train Epoch: 3 [25600/60000 (43%)]\tLoss: 0.026389\n",
            "Train Epoch: 3 [38400/60000 (64%)]\tLoss: 0.053950\n",
            "Train Epoch: 3 [51200/60000 (85%)]\tLoss: 0.083142\n",
            "\n",
            "Epoch 3 time = 12.92s on device cuda\n",
            "\n",
            "Test set: Average loss: 0.0343, Accuracy: 9878/10000 (99%)\n",
            "\n",
            "Train Epoch: 4 [0/60000 (0%)]\tLoss: 0.058986\n",
            "Train Epoch: 4 [12800/60000 (21%)]\tLoss: 0.046732\n",
            "Train Epoch: 4 [25600/60000 (43%)]\tLoss: 0.048377\n",
            "Train Epoch: 4 [38400/60000 (64%)]\tLoss: 0.052472\n",
            "Train Epoch: 4 [51200/60000 (85%)]\tLoss: 0.042274\n",
            "\n",
            "Epoch 4 time = 12.27s on device cuda\n",
            "\n",
            "Test set: Average loss: 0.0298, Accuracy: 9902/10000 (99%)\n",
            "\n",
            "Train Epoch: 5 [0/60000 (0%)]\tLoss: 0.011161\n",
            "Train Epoch: 5 [12800/60000 (21%)]\tLoss: 0.088492\n",
            "Train Epoch: 5 [25600/60000 (43%)]\tLoss: 0.038573\n",
            "Train Epoch: 5 [38400/60000 (64%)]\tLoss: 0.038635\n",
            "Train Epoch: 5 [51200/60000 (85%)]\tLoss: 0.032174\n",
            "\n",
            "Epoch 5 time = 13.47s on device cuda\n",
            "\n",
            "Test set: Average loss: 0.0274, Accuracy: 9908/10000 (99%)\n",
            "\n"
          ]
        }
      ],
      "source": [
        "import importlib\n",
        "importlib.reload(train_utils)\n",
        "# we use importlib to make sure that we are loading\n",
        "# the latest version of train_utils after any changes\n",
        "# that you may have done\n",
        "\n",
        "for epoch in range(1, epochs + 1):\n",
        "    train_utils.train(model, device, train_loader, optimizer, epoch, log_interval, dry_run)\n",
        "    train_utils.test(model, device, test_loader)\n",
        "    scheduler.step()\n",
        "\n",
        "if save_model:\n",
        "    torch.save(model.state_dict(), \"mnist_cnn.pt\")"
      ]
    },
    {
      "cell_type": "code",
      "execution_count": 16,
      "metadata": {
        "colab": {
          "base_uri": "https://localhost:8080/",
          "height": 279
        },
        "id": "q_7OEMG2LYEx",
        "outputId": "9c9d4d9e-c553-4a25-8f00-39a8aa8d6206"
      },
      "outputs": [
        {
          "data": {
            "image/png": "[encoded data removed]",
            "text/plain": [
              "<Figure size 432x288 with 1 Axes>"
            ]
          },
          "metadata": {
            "needs_background": "light"
          },
          "output_type": "display_data"
        }
      ],
      "source": [
        "import matplotlib.pyplot as plt\n",
        "%matplotlib inline\n",
        "gpu_bs_128 = [15.45, 13.51, 13.91, 13.49, 13.47]\n",
        "cpu_bs_128 = [159.73, 171.38, 176.2, 174.39, 175.4]\n",
        "gpu_bs_64 = [23.58, 19.21, 16.44, 17.35, 20.51]\n",
        "cpu_bs_64 = [167.01, 193.13, 204.67, 204.43, 212.74]\n",
        "gpu_bs_256 = [12.76, 12.11, 12.92, 12.27, 13.47]\n",
        "cpu_bs_256 = [183.39, 180.52, 183.26, 179.67, 181.88]\n",
        "\n",
        "bs_128 = plt.scatter(gpu_bs_128, cpu_bs_128)\n",
        "bs_64 = plt.scatter(gpu_bs_64, cpu_bs_64)\n",
        "bs_256 = plt.scatter(gpu_bs_256, cpu_bs_256)\n",
        "plt.xlabel('Epoch time on GPU')\n",
        "plt.ylabel('Epoch time on CPU')\n",
        "plt.legend((bs_128, bs_64, bs_256),\n",
        "           ('Batch Size 128', 'Batch Size 64', 'Batch Size 256'))\n",
        "plt.show()"
      ]
    },
    {
      "cell_type": "code",
      "execution_count": 17,
      "metadata": {
        "colab": {
          "base_uri": "https://localhost:8080/"
        },
        "id": "E-AAD7e86Az_",
        "outputId": "0a17591f-deea-4347-ca83-beb2a0e96206"
      },
      "outputs": [
        {
          "name": "stdout",
          "output_type": "stream",
          "text": [
            "Mon Feb  6 22:48:33 2023       \n",
            "+-----------------------------------------------------------------------------+\n",
            "| NVIDIA-SMI 510.47.03    Driver Version: 510.47.03    CUDA Version: 11.6     |\n",
            "|-------------------------------+----------------------+----------------------+\n",
            "| GPU  Name        Persistence-M| Bus-Id        Disp.A | Volatile Uncorr. ECC |\n",
            "| Fan  Temp  Perf  Pwr:Usage/Cap|         Memory-Usage | GPU-Util  Compute M. |\n",
            "|                               |                      |               MIG M. |\n",
            "|===============================+======================+======================|\n",
            "|   0  Tesla T4            Off  | 00000000:00:04.0 Off |                    0 |\n",
            "| N/A   69C    P0    33W /  70W |   1660MiB / 15360MiB |      0%      Default |\n",
            "|                               |                      |                  N/A |\n",
            "+-------------------------------+----------------------+----------------------+\n",
            "                                                                               \n",
            "+-----------------------------------------------------------------------------+\n",
            "| Processes:                                                                  |\n",
            "|  GPU   GI   CI        PID   Type   Process name                  GPU Memory |\n",
            "|        ID   ID                                                   Usage      |\n",
            "|=============================================================================|\n",
            "|    0   N/A  N/A      5876      C                                    1657MiB |\n",
            "+-----------------------------------------------------------------------------+\n"
          ]
        }
      ],
      "source": [
        "# Diagnostic information about the used GPU device\n",
        "!nvidia-smi"
      ]
    },
    {
      "cell_type": "code",
      "execution_count": null,
      "metadata": {
        "id": "nWHUDsXW6qf_"
      },
      "outputs": [],
      "source": []
    }
  ],
  "metadata": {
    "colab": {
      "provenance": []
    },
    "gpuClass": "standard",
    "kernelspec": {
      "display_name": "Python 3",
      "name": "python3"
    },
    "language_info": {
      "name": "python"
    }
  },
  "nbformat": 4,
  "nbformat_minor": 0
}
